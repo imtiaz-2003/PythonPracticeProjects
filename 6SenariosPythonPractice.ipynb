{
  "nbformat": 4,
  "nbformat_minor": 0,
  "metadata": {
    "colab": {
      "provenance": [],
      "gpuType": "T4"
    },
    "kernelspec": {
      "name": "python3",
      "display_name": "Python 3"
    },
    "language_info": {
      "name": "python"
    },
    "accelerator": "GPU"
  },
  "cells": [
    {
      "cell_type": "markdown",
      "source": [
        "#1️⃣ **Scenario: Custom Math Operations**\n",
        "\n",
        "📌 Problem Statement\n",
        "\n",
        "Write a program that:\n",
        "\n",
        "* Defines a function perform_operation that accepts two numbers and a mathematical operation as arguments (e.g., \"add\", \"subtract\", \"multiply\", \"divide\").\n",
        "* Uses *args to allow the function to handle additional optional numbers for the same operation.\n",
        "* Handles invalid operations using exception handling.\n",
        "📝 Steps:\n",
        "\n",
        "* Prompt the user to input the operation and numbers.\n",
        "* Perform the calculation based on the operation provided.\n",
        "* Handle errors like division by zero or invalid inputs."
      ],
      "metadata": {
        "id": "2BV9Whd_32nU"
      }
    },
    {
      "cell_type": "code",
      "source": [
        "# Custom Math Operations\n",
        "\n",
        "def perform_operation(operation, num1, num2, *args):\n",
        "    try:\n",
        "        # Start with the first two numbers\n",
        "        result = 0\n",
        "        if operation == \"add\":\n",
        "            result = num1 + num2 + sum(args)\n",
        "        elif operation == \"subtract\":\n",
        "            result = num1 - num2 - sum(args)\n",
        "        elif operation == \"multiply\":\n",
        "            result = num1 * num2\n",
        "            for arg in args:\n",
        "                result *= arg\n",
        "        elif operation == \"divide\":\n",
        "            if num2 == 0 or 0 in args:\n",
        "                raise ZeroDivisionError(\"Cannot divide by zero!\")\n",
        "            result = num1 / num2\n",
        "            for arg in args:\n",
        "                result /= arg\n",
        "        else:\n",
        "            raise ValueError(\"Invalid operation! Please choose add, subtract, multiply, or divide.\")\n",
        "\n",
        "        return result\n",
        "    except ZeroDivisionError as e:\n",
        "        return str(e)\n",
        "    except ValueError as e:\n",
        "        return str(e)\n",
        "    except Exception as e:\n",
        "        return f\"An unexpected error occurred: {e}\"\n",
        "\n",
        "# Prompt the user for input\n",
        "operation = input(\"Enter the operation (add, subtract, multiply, divide): \").lower()\n",
        "try:\n",
        "    num1 = float(input(\"Enter the first number: \"))\n",
        "    num2 = float(input(\"Enter the second number: \"))\n",
        "\n",
        "    # Ask for additional numbers\n",
        "    additional_nums = input(\"Enter additional numbers separated by spaces (or press Enter to skip): \")\n",
        "    args = tuple(map(float, additional_nums.split())) if additional_nums else ()\n",
        "\n",
        "    # Perform the operation\n",
        "    result = perform_operation(operation, num1, num2, *args)\n",
        "    print(f\"Result: {result}\")\n",
        "except ValueError:\n",
        "    print(\"Invalid input! Please enter numeric values.\")"
      ],
      "metadata": {
        "colab": {
          "base_uri": "https://localhost:8080/"
        },
        "id": "5Mh5vDl04fh1",
        "outputId": "0c2aa66a-de68-434b-b3be-a428ecd1f70a"
      },
      "execution_count": 3,
      "outputs": [
        {
          "output_type": "stream",
          "name": "stdout",
          "text": [
            "Enter the operation (add, subtract, multiply, divide): add\n",
            "Enter the first number: 10\n",
            "Enter the second number: 5\n",
            "Enter additional numbers separated by spaces (or press Enter to skip): 1 2 3 4 5\n",
            "Result: 30.0\n"
          ]
        }
      ]
    },
    {
      "cell_type": "markdown",
      "source": [
        "# **2️⃣ Scenario: Flexible Report Generator**\n",
        "\n",
        "📌 Problem Statement\n",
        "\n",
        "+ Create a report generator function for a company.\n",
        "\n",
        "* Use **kwargs to accept flexible details (e.g., name, age, department, etc.).\n",
        "Ensure the report includes a custom header and footer generated using decorators.\n",
        "* Validate that all required details (e.g., name and department) are present, raising an error if not.\n",
        "\n",
        "📝 Steps:\n",
        "\n",
        "* Define a function to generate the report.\n",
        "* Use a decorator to format the report with a header and footer.\n",
        "* Handle missing key-value pairs in **kwargs gracefully using exception handling."
      ],
      "metadata": {
        "id": "3jJggflS9Jpu"
      }
    },
    {
      "cell_type": "code",
      "source": [
        "# Decorator to add a header and footer to the report\n",
        "def add_header_footer(func):\n",
        "    def wrapper(**kwargs):\n",
        "        print(\"======== Company Report ========\")\n",
        "        result = func(**kwargs)\n",
        "        print(\"========= End of Report =========\")\n",
        "        return result\n",
        "    return wrapper\n",
        "\n",
        "# Function to generate the report\n",
        "@add_header_footer\n",
        "def generate_report(**kwargs):\n",
        "    try:\n",
        "        # Check for required fields\n",
        "        if 'name' not in kwargs or 'department' not in kwargs:\n",
        "            raise KeyError(\"Missing required fields: 'name' and 'department'\")\n",
        "\n",
        "        # Display the report details\n",
        "        print(\"Employee Details:\")\n",
        "        for key, value in kwargs.items():\n",
        "            print(f\"{key.capitalize()}: {value}\")\n",
        "    except KeyError as e:\n",
        "        print(f\"Error: {e}\")\n",
        "    except Exception as e:\n",
        "        print(f\"An unexpected error occurred: {e}\")\n",
        "\n",
        "# Main program\n",
        "print(\"Enter employee details for the report:\")\n",
        "details = {}\n",
        "\n",
        "# Collect details from the user\n",
        "while True:\n",
        "    key = input(\"Enter detail type (e.g., name, age, department) or 'done' to finish: \").lower()\n",
        "    if key == \"done\":\n",
        "        break\n",
        "    value = input(f\"Enter the value for {key}: \")\n",
        "    details[key] = value\n",
        "\n",
        "# Generate the report\n",
        "generate_report(**details)\n"
      ],
      "metadata": {
        "colab": {
          "base_uri": "https://localhost:8080/"
        },
        "id": "zHVS5ljp-KN7",
        "outputId": "fc391fb5-ae62-41f2-a72a-81409ead7e8c"
      },
      "execution_count": 6,
      "outputs": [
        {
          "output_type": "stream",
          "name": "stdout",
          "text": [
            "Enter employee details for the report:\n",
            "Enter detail type (e.g., name, age, department) or 'done' to finish: name\n",
            "Enter the value for name: Imtiaz Malik\n",
            "Enter detail type (e.g., name, age, department) or 'done' to finish: age\n",
            "Enter the value for age: 21\n",
            "Enter detail type (e.g., name, age, department) or 'done' to finish: department\n",
            "Enter the value for department: INFORMATION TECHNOLOGY\n",
            "Enter detail type (e.g., name, age, department) or 'done' to finish: done\n",
            "======== Company Report ========\n",
            "Employee Details:\n",
            "Name: Imtiaz Malik\n",
            "Age: 21\n",
            "Department: INFORMATION TECHNOLOGY\n",
            "========= End of Report =========\n"
          ]
        }
      ]
    },
    {
      "cell_type": "markdown",
      "source": [
        "#3️⃣ Scenario: Retry Mechanism with Decorators\n",
        "📌 Problem Statement\n",
        "\n",
        "* Write a decorator called retry that retries a function up to 3 times if it raises an exception.\n",
        "\n",
        "* Use the decorator to wrap a function fetch_data that simulates fetching data from a database or API.\n",
        "* If the function succeeds, print the data. If it fails after 3 attempts, raise an exception.\n",
        "\n",
        "📝 Steps:\n",
        "\n",
        "* Define a decorator to retry a function multiple times.\n",
        "* Simulate a failure in the fetch_data function using random or manual conditions.\n",
        "* Print appropriate messages during retries and handle the final exception gracefully."
      ],
      "metadata": {
        "id": "ZFmf3ZDxAZ0H"
      }
    },
    {
      "cell_type": "code",
      "source": [
        "#Scenario: Retry Mechanism with Decorators\n",
        "import random\n",
        "import time\n",
        "\n",
        "# Retry decorator\n",
        "def retry(func):\n",
        "    def wrapper(*args, **kwargs):\n",
        "        attempts = 3\n",
        "        for attempt in range(1, attempts + 1):\n",
        "            try:\n",
        "                # Try calling the function\n",
        "                print(f\"Attempt {attempt}: Trying to fetch data...\")\n",
        "                result = func(*args, **kwargs)\n",
        "                print(\"Data fetched successfully!\")\n",
        "                return result\n",
        "            except Exception as e:\n",
        "                print(f\"Error: {e}. Retrying...\")\n",
        "                time.sleep(1)  # Simulate delay before retrying\n",
        "        # If all attempts fail, raise an exception\n",
        "        raise Exception(\"Failed to fetch data after 3 attempts.\")\n",
        "    return wrapper\n",
        "\n",
        "# Simulated fetch_data function\n",
        "@retry\n",
        "def fetch_data():\n",
        "    # Simulate random failures\n",
        "    if random.choice([True, False]):  # Randomly succeed or fail\n",
        "        raise Exception(\"Simulated connection error!\")\n",
        "    return {\"Name : \": \"iMTIAZ MALIK\" , \"City : \": \"Faisalabad\"}\n",
        "\n",
        "# Main program\n",
        "try:\n",
        "    data = fetch_data()\n",
        "    print(f\"Fetched Data: {data}\")\n",
        "except Exception as e:\n",
        "    print(f\"Final Error: {e}\")\n"
      ],
      "metadata": {
        "colab": {
          "base_uri": "https://localhost:8080/"
        },
        "id": "5yTuFPYPB9KM",
        "outputId": "de8ac277-9cb4-4c93-baaa-280fb2d602fb"
      },
      "execution_count": 13,
      "outputs": [
        {
          "output_type": "stream",
          "name": "stdout",
          "text": [
            "Attempt 1: Trying to fetch data...\n",
            "Error: Simulated connection error!. Retrying...\n",
            "Attempt 2: Trying to fetch data...\n",
            "Data fetched successfully!\n",
            "Fetched Data: {'Name : ': 'iMTIAZ MALIK', 'City : ': 'Faisalabad'}\n"
          ]
        }
      ]
    },
    {
      "cell_type": "markdown",
      "source": [
        "#5️⃣ Scenario: Advanced Calculator with Modular Design\n",
        "📌 Problem Statement\n",
        "* Build an advanced calculator program using functions, *args, and **kwargs.\n",
        "* Create individual functions for operations (add, subtract, multiply, divide).\n",
        "* Use *args to handle multiple numbers for operations.\n",
        "* Use **kwargs to support optional parameters like rounding (round=True) or formatting (format=\"currency\").\n",
        "* Handle exceptions like invalid inputs or division by zero.\n",
        "\n",
        "📝 Steps:\n",
        "\n",
        "* Define separate functions for each operation.\n",
        "* Create a main function to coordinate the operations.\n",
        "* Handle optional parameters for rounding and formatting using **kwargs.\n"
      ],
      "metadata": {
        "id": "-DT-WCRwDOKq"
      }
    },
    {
      "cell_type": "code",
      "source": [
        "# Function to add numbers\n",
        "def add(*args):\n",
        "    return sum(args)\n",
        "\n",
        "# Function to subtract numbers (subtract all numbers after the first one)\n",
        "def subtract(*args):\n",
        "    result = args[0]\n",
        "    for num in args[1:]:\n",
        "        result -= num\n",
        "    return result\n",
        "\n",
        "# Function to multiply numbers\n",
        "def multiply(*args):\n",
        "    result = 1\n",
        "    for num in args:\n",
        "        result *= num\n",
        "    return result\n",
        "\n",
        "# Function to divide numbers\n",
        "def divide(*args):\n",
        "    try:\n",
        "        result = args[0]\n",
        "        for num in args[1:]:\n",
        "            result /= num\n",
        "        return result\n",
        "    except ZeroDivisionError:\n",
        "        return \"Error: Division by zero is not allowed!\"\n",
        "\n",
        "# Main function to handle operations\n",
        "def calculator(operation, *args, **kwargs):\n",
        "    if operation == \"add\":\n",
        "        result = add(*args)\n",
        "    elif operation == \"subtract\":\n",
        "        result = subtract(*args)\n",
        "    elif operation == \"multiply\":\n",
        "        result = multiply(*args)\n",
        "    elif operation == \"divide\":\n",
        "        result = divide(*args)\n",
        "    else:\n",
        "        return \"Invalid operation!\"\n",
        "\n",
        "    # Handling optional parameters with **kwargs\n",
        "    if kwargs.get(\"round\", False):\n",
        "        result = round(result, kwargs.get(\"round_digits\", 2))\n",
        "\n",
        "    if kwargs.get(\"format\", \"\") == \"currency\":\n",
        "        result = f\"${result:,.2f}\"\n",
        "\n",
        "    return result\n",
        "\n",
        "# Example usage\n",
        "if __name__ == \"__main__\":\n",
        "    # Addition example\n",
        "    print(\"Addition Result:\", calculator(\"add\", 10, 20, 30))  # Output: 60\n",
        "\n",
        "    # Subtraction example\n",
        "    print(\"Subtraction Result:\", calculator(\"subtract\", 50, 10, 5))  # Output: 35\n",
        "\n",
        "    # Multiplication example\n",
        "    print(\"Multiplication Result:\", calculator(\"multiply\", 2, 3, 4))  # Output: 24\n",
        "\n",
        "    # Division example\n",
        "    print(\"Division Result:\", calculator(\"divide\", 100, 5, 2))  # Output: 10.0\n",
        "\n",
        "    # Division by zero example\n",
        "    print(\"Division by Zero Result:\", calculator(\"divide\", 100, 0))  # Output: Error: Division by zero is not allowed!\n",
        "\n",
        "    # Addition with rounding and currency formatting\n",
        "    print(\"Formatted Addition Result:\", calculator(\"add\", 10.12345, 20.6789, round=True, round_digits=2, format=\"currency\"))  # Output: $30.80\n"
      ],
      "metadata": {
        "colab": {
          "base_uri": "https://localhost:8080/"
        },
        "id": "NfeTplLNFMzy",
        "outputId": "abea7608-6bc7-4d37-d77c-e2b39f8760bd"
      },
      "execution_count": 14,
      "outputs": [
        {
          "output_type": "stream",
          "name": "stdout",
          "text": [
            "Addition Result: 60\n",
            "Subtraction Result: 35\n",
            "Multiplication Result: 24\n",
            "Division Result: 10.0\n",
            "Division by Zero Result: Error: Division by zero is not allowed!\n",
            "Formatted Addition Result: $30.80\n"
          ]
        }
      ]
    },
    {
      "cell_type": "markdown",
      "source": [
        "#4 Scenario: Weather Data Analyzer\n",
        "\n",
        "📌 Problem Statement\n",
        "* Write a program that fetches weather data from an external API (e.g., OpenWeatherMap) for multiple cities and performs analysis on the data.\n",
        "  * (if using Google colab then use import Random )\n",
        "\n",
        "📝 Steps:\n",
        "\n",
        "* Prompt the user to input a list of city names.\n",
        "* Use the requests library to fetch weather data from the API.\n",
        "* Calculate and display:\n",
        "  * The average temperature for all cities.\n",
        "  * The city with the highest temperature.\n",
        "  * The city with the lowest temperature.\n",
        "  *Handle errors such as invalid city names or API issues gracefully."
      ],
      "metadata": {
        "id": "ouyvcYTmIli9"
      }
    },
    {
      "cell_type": "code",
      "source": [
        "import random\n",
        "\n",
        "# Function to simulate fetching weather data for a city\n",
        "def fetch_weather_data(city):\n",
        "    # Simulate temperature data (in Celsius) for each city\n",
        "    temperature = random.randint(-10, 40)  # Random temperature between -10 to 40 Celsius\n",
        "    return temperature\n",
        "\n",
        "# Function to calculate weather statistics\n",
        "def analyze_weather(cities):\n",
        "    temperatures = {}\n",
        "    for city in cities:\n",
        "        try:\n",
        "            # Fetch the temperature for the city\n",
        "            temp = fetch_weather_data(city)\n",
        "            temperatures[city] = temp\n",
        "        except Exception as e:\n",
        "            print(f\"Error fetching data for {city}: {e}\")\n",
        "\n",
        "    if temperatures:\n",
        "        # Calculate average temperature\n",
        "        avg_temp = sum(temperatures.values()) / len(temperatures)\n",
        "        # Find the city with the highest and lowest temperature\n",
        "        highest_city = max(temperatures, key=temperatures.get)\n",
        "        lowest_city = min(temperatures, key=temperatures.get)\n",
        "\n",
        "        # Display the results\n",
        "        print(f\"Weather data for cities:\")\n",
        "        for city, temp in temperatures.items():\n",
        "            print(f\"{city}: {temp}°C\")\n",
        "\n",
        "        print(f\"\\nAverage temperature for all cities: {avg_temp:.2f}°C\")\n",
        "        print(f\"City with highest temperature: {highest_city} ({temperatures[highest_city]}°C)\")\n",
        "        print(f\"City with lowest temperature: {lowest_city} ({temperatures[lowest_city]}°C)\")\n",
        "    else:\n",
        "        print(\"No weather data available.\")\n",
        "\n",
        "# Main program to interact with the user\n",
        "def main():\n",
        "    cities_input = input(\"Enter the names of cities separated by commas: \")\n",
        "    cities = [city.strip() for city in cities_input.split(\",\")]\n",
        "\n",
        "    analyze_weather(cities)\n",
        "\n",
        "# Run the program\n",
        "main()\n"
      ],
      "metadata": {
        "colab": {
          "base_uri": "https://localhost:8080/"
        },
        "id": "ClZ3pqckJyi0",
        "outputId": "aae8988a-c047-46bb-def0-4b8d44d4dce5"
      },
      "execution_count": 1,
      "outputs": [
        {
          "output_type": "stream",
          "name": "stdout",
          "text": [
            "Enter the names of cities separated by commas: New York , Lahore , Faisalabad \n",
            "Weather data for cities:\n",
            "New York: 22°C\n",
            "Lahore: -9°C\n",
            "Faisalabad: 27°C\n",
            "\n",
            "Average temperature for all cities: 13.33°C\n",
            "City with highest temperature: Faisalabad (27°C)\n",
            "City with lowest temperature: Lahore (-9°C)\n"
          ]
        }
      ]
    },
    {
      "cell_type": "markdown",
      "source": [
        "#6 Scenario: Movie Ticket Price Calculator\n",
        "📌 Problem Statement\n",
        "* Write a program that calculates the total ticket price for a group of people, considering discounts for age groups.\n",
        "\n",
        "📝 Steps:\n",
        "\n",
        "* Prompt the user to input the number of people in the group.\n",
        "* For each person, ask for their age and calculate the ticket price based on the following rules:\n",
        "  * Age 0-12: $5\n",
        "\n",
        " * Age 13-60: $10\n",
        "\n",
        " * Age 61+: $7\n",
        "* Calculate the total price for the group.\n",
        "* Apply a 10% discount if the group has more than 5 people.\n",
        "* Display the final price after the discount (if applicable)."
      ],
      "metadata": {
        "id": "WcViMTuyL1MA"
      }
    },
    {
      "cell_type": "code",
      "source": [
        "# Function to calculate ticket price based on age\n",
        "def calculate_ticket_price(age):\n",
        "    if 0 <= age <= 12:\n",
        "        return 5\n",
        "    elif 13 <= age <= 60:\n",
        "        return 10\n",
        "    elif age >= 61:\n",
        "        return 7\n",
        "    else:\n",
        "        return 0\n",
        "\n",
        "# Function to calculate the total price for the group\n",
        "def calculate_total_price(group_size):\n",
        "    total_price = 0\n",
        "\n",
        "    for i in range(group_size):\n",
        "        age = int(input(f\"Enter the age of person {i + 1}: \"))\n",
        "        total_price += calculate_ticket_price(age)\n",
        "\n",
        "    # Apply a 10% discount if there are more than 5 people\n",
        "    if group_size > 5:\n",
        "        total_price *= 0.90  # Apply 10% discount\n",
        "\n",
        "    return total_price\n",
        "\n",
        "# Main program to interact with the user\n",
        "def main():\n",
        "    group_size = int(input(\"Enter the number of people in the group: \"))\n",
        "\n",
        "    total_price = calculate_total_price(group_size)\n",
        "\n",
        "    print(f\"\\nTotal price for the group: ${total_price:.2f}\")\n",
        "\n",
        "# Run the program\n",
        "main()\n"
      ],
      "metadata": {
        "colab": {
          "base_uri": "https://localhost:8080/"
        },
        "id": "jmRfKGnxMt2F",
        "outputId": "e9fb8b19-6f76-4640-c295-3aac62635233"
      },
      "execution_count": 2,
      "outputs": [
        {
          "output_type": "stream",
          "name": "stdout",
          "text": [
            "Enter the number of people in the group: 5\n",
            "Enter the age of person 1: 8\n",
            "Enter the age of person 2: 20\n",
            "Enter the age of person 3: 15\n",
            "Enter the age of person 4: 88\n",
            "Enter the age of person 5: 50\n",
            "\n",
            "Total price for the group: $42.00\n"
          ]
        }
      ]
    }
  ]
}