{
  "nbformat": 4,
  "nbformat_minor": 0,
  "metadata": {
    "colab": {
      "provenance": []
    },
    "kernelspec": {
      "name": "python3",
      "display_name": "Python 3"
    },
    "language_info": {
      "name": "python"
    }
  },
  "cells": [
    {
      "cell_type": "code",
      "execution_count": null,
      "metadata": {
        "colab": {
          "base_uri": "https://localhost:8080/"
        },
        "id": "wsHC6qB8yIOW",
        "outputId": "4adf2aa1-dce6-472b-afdb-5f742134793c"
      },
      "outputs": [
        {
          "output_type": "stream",
          "name": "stdout",
          "text": [
            "apple\n",
            "banana\n",
            "pine\n"
          ]
        }
      ],
      "source": [
        "fruits = [\"apple\" , \"banana\" , \"pine\"]\n",
        "for fruit in fruits:\n",
        "    print(fruit)"
      ]
    },
    {
      "cell_type": "code",
      "source": [
        "for i in range(1,5):\n",
        "  print(i)\n"
      ],
      "metadata": {
        "colab": {
          "base_uri": "https://localhost:8080/"
        },
        "id": "2UwhFQNyy-Rq",
        "outputId": "58e99250-c116-4746-8c18-66807ae289c7"
      },
      "execution_count": null,
      "outputs": [
        {
          "output_type": "stream",
          "name": "stdout",
          "text": [
            "1\n",
            "2\n",
            "3\n",
            "4\n"
          ]
        }
      ]
    },
    {
      "cell_type": "code",
      "source": [
        "for i in range(1,10,2):\n",
        "  print(i)"
      ],
      "metadata": {
        "colab": {
          "base_uri": "https://localhost:8080/"
        },
        "id": "DSyrqZvhze__",
        "outputId": "b5f9857e-eda9-4b7f-acc5-1eaf76ee0389"
      },
      "execution_count": null,
      "outputs": [
        {
          "output_type": "stream",
          "name": "stdout",
          "text": [
            "1\n",
            "3\n",
            "5\n",
            "7\n",
            "9\n"
          ]
        }
      ]
    },
    {
      "cell_type": "code",
      "source": [
        "for char in \"imtiaz\" :\n",
        "    print(char)"
      ],
      "metadata": {
        "colab": {
          "base_uri": "https://localhost:8080/"
        },
        "id": "-zDqlfZGzkHc",
        "outputId": "32355fde-2621-43c9-bdb7-7c43d10c610c"
      },
      "execution_count": null,
      "outputs": [
        {
          "output_type": "stream",
          "name": "stdout",
          "text": [
            "i\n",
            "m\n",
            "t\n",
            "i\n",
            "a\n",
            "z\n"
          ]
        }
      ]
    },
    {
      "cell_type": "code",
      "source": [
        "a = {\"srNo\" : 1 , \"Name\": \"imtiaz\" , \"city\": \"Alipur\"}\n",
        "for key,value in a.items():\n",
        "    print(key,value)\n"
      ],
      "metadata": {
        "colab": {
          "base_uri": "https://localhost:8080/"
        },
        "id": "zNs8FCMmz8Wr",
        "outputId": "92f9283f-9bf8-4632-cdbd-46a6ce4f0828"
      },
      "execution_count": null,
      "outputs": [
        {
          "output_type": "stream",
          "name": "stdout",
          "text": [
            "srNo 1\n",
            "Name imtiaz\n",
            "city Alipur\n"
          ]
        }
      ]
    },
    {
      "cell_type": "code",
      "source": [
        "for i in range(5):\n",
        "  for j in range(2):\n",
        "    print(f\"i={i} , j={j}\")"
      ],
      "metadata": {
        "colab": {
          "base_uri": "https://localhost:8080/"
        },
        "id": "hT7-A7tH0zkG",
        "outputId": "a1b7992e-fea0-46f7-df1a-76bd7cf3c2c3"
      },
      "execution_count": null,
      "outputs": [
        {
          "output_type": "stream",
          "name": "stdout",
          "text": [
            "i=0 , j=0\n",
            "i=0 , j=1\n",
            "i=1 , j=0\n",
            "i=1 , j=1\n",
            "i=2 , j=0\n",
            "i=2 , j=1\n",
            "i=3 , j=0\n",
            "i=3 , j=1\n",
            "i=4 , j=0\n",
            "i=4 , j=1\n"
          ]
        }
      ]
    },
    {
      "cell_type": "code",
      "source": [
        "for i in range(3):\n",
        "    for j in range(2):\n",
        "        print(f\"i={i}, j={j}\")\n"
      ],
      "metadata": {
        "colab": {
          "base_uri": "https://localhost:8080/"
        },
        "id": "Z5mL93WK1nAC",
        "outputId": "3ba1f7b3-8c52-4906-d4f1-66e94cf41bf8"
      },
      "execution_count": null,
      "outputs": [
        {
          "output_type": "stream",
          "name": "stdout",
          "text": [
            "i=0, j=0\n",
            "i=0, j=1\n",
            "i=1, j=0\n",
            "i=1, j=1\n",
            "i=2, j=0\n",
            "i=2, j=1\n"
          ]
        }
      ]
    },
    {
      "cell_type": "markdown",
      "source": [
        "Practice\n",
        "Questions\n",
        "Q1:\n",
        "\n",
        " Print all even numbers between 1 and 20\n",
        "\n",
        "Write a program to print all even numbers between 1 and 20 using a for loop.\n",
        "\n"
      ],
      "metadata": {
        "id": "rV9buxXL4Vkf"
      }
    },
    {
      "cell_type": "code",
      "source": [
        "for i in range(2,21,2):\n",
        "    print(i)\n",
        "\n",
        "#for odd Number\n",
        "# for i in range(1,21,2):\n",
        "#   print(i)"
      ],
      "metadata": {
        "colab": {
          "base_uri": "https://localhost:8080/"
        },
        "id": "fcTFmK8F4cr5",
        "outputId": "044cf3c5-6b58-4771-fa87-61df57f597b2"
      },
      "execution_count": null,
      "outputs": [
        {
          "output_type": "stream",
          "name": "stdout",
          "text": [
            "2\n",
            "4\n",
            "6\n",
            "8\n",
            "10\n",
            "12\n",
            "14\n",
            "16\n",
            "18\n",
            "20\n",
            "1\n",
            "3\n",
            "5\n",
            "7\n",
            "9\n",
            "11\n",
            "13\n",
            "15\n",
            "17\n",
            "19\n"
          ]
        }
      ]
    },
    {
      "cell_type": "markdown",
      "source": [
        "Q2: Sum of numbers in a list\n",
        "Given the list numbers = [10, 20, 30, 40],\n",
        "\n",
        " write a program to calculate the sum of all numbers using a for loop."
      ],
      "metadata": {
        "id": "mR2Z_c-y7kCR"
      }
    },
    {
      "cell_type": "code",
      "source": [
        "a =[10,20,30,40]\n",
        "total = 0\n",
        "for i in a:\n",
        "    total = total + i\n",
        "    print(total)"
      ],
      "metadata": {
        "colab": {
          "base_uri": "https://localhost:8080/"
        },
        "id": "OUyF41PV7po-",
        "outputId": "09c0600d-dbe6-4387-fd0b-ae2e2f048ad5"
      },
      "execution_count": null,
      "outputs": [
        {
          "output_type": "stream",
          "name": "stdout",
          "text": [
            "10\n",
            "30\n",
            "60\n",
            "100\n"
          ]
        }
      ]
    },
    {
      "cell_type": "markdown",
      "source": [
        "Q3:\n",
        "Find Factorial of the number which is entered by Users ? using For Loop\n"
      ],
      "metadata": {
        "id": "Cqbgunuy_yd2"
      }
    },
    {
      "cell_type": "code",
      "source": [
        "num = int(input(\"Enter a number: \"))\n",
        "\n",
        "factorial = 1\n",
        "\n",
        "# Calculate factorial using a for loop\n",
        "if num < 0:\n",
        "    print(\"Factorial is not defined for negative numbers.\")\n",
        "elif num == 0:\n",
        "    print(\"The factorial of 0 is 1.\")\n",
        "else:\n",
        "    for i in range(1, num + 1):  # Loop from 1 to num (inclusive)\n",
        "        factorial *= i  # Multiply current number to the factorial\n",
        "    print(f\"The factorial of {num} is {factorial}.\")\n"
      ],
      "metadata": {
        "id": "PBzYK87cAFLP"
      },
      "execution_count": null,
      "outputs": []
    },
    {
      "cell_type": "markdown",
      "source": [],
      "metadata": {
        "id": "U-c2TGJyA-v9"
      }
    },
    {
      "cell_type": "markdown",
      "source": [
        "Q3: Multiplication Table\n",
        "Write a program that prints the multiplication table for a number (e.g., 5)."
      ],
      "metadata": {
        "id": "qcTU5hlTBIeQ"
      }
    },
    {
      "cell_type": "code",
      "source": [
        "for i in range(1,11):\n",
        "    print(f\"5 * {i} = {5*i}\")"
      ],
      "metadata": {
        "colab": {
          "base_uri": "https://localhost:8080/"
        },
        "id": "Ki2U2xaKBMxN",
        "outputId": "442504c2-e91b-4b37-aeb9-e68bbe2924da"
      },
      "execution_count": null,
      "outputs": [
        {
          "output_type": "stream",
          "name": "stdout",
          "text": [
            "5 * 1 = 5\n",
            "5 * 2 = 10\n",
            "5 * 3 = 15\n",
            "5 * 4 = 20\n",
            "5 * 5 = 25\n",
            "5 * 6 = 30\n",
            "5 * 7 = 35\n",
            "5 * 8 = 40\n",
            "5 * 9 = 45\n",
            "5 * 10 = 50\n"
          ]
        }
      ]
    },
    {
      "cell_type": "markdown",
      "source": [
        "Q4: Count vowels in a string\n",
        "\n",
        "Write a program to count the number of vowels in the string \"hello world\" using a for loop.\n",
        "\n"
      ],
      "metadata": {
        "id": "4tM-4jFAWm4C"
      }
    },
    {
      "cell_type": "code",
      "source": [
        "given_string = \"hello world\"\n",
        "vowels =  \"aeiouAEIOU\"\n",
        "vowel_count = 0\n",
        "for char in given_string:\n",
        "    if char in vowels:\n",
        "        # vowel_count += 1\n",
        "        vowel_count = vowel_count + 1\n",
        "print(f\"The number of vowels in the string is: {vowel_count}\")"
      ],
      "metadata": {
        "colab": {
          "base_uri": "https://localhost:8080/"
        },
        "id": "SSIQHFR0X8q0",
        "outputId": "d0f75c6e-9c62-4f15-b595-0efe2c085e7a"
      },
      "execution_count": null,
      "outputs": [
        {
          "output_type": "stream",
          "name": "stdout",
          "text": [
            "The number of vowels in the string is: 3\n"
          ]
        }
      ]
    },
    {
      "cell_type": "markdown",
      "source": [
        "Q5: Pyramid Pattern\n",
        "Write a program to print the following pattern:\n",
        "\n"
      ],
      "metadata": {
        "id": "StR_mt4HZqtE"
      }
    },
    {
      "cell_type": "markdown",
      "source": [
        "\n",
        "```\n",
        "# This is formatted as code\n",
        "\n",
        "*\n",
        "**\n",
        "***\n",
        "****\n",
        "*****\n",
        "```\n",
        "\n"
      ],
      "metadata": {
        "id": "LpVgKwinaN8T"
      }
    },
    {
      "cell_type": "code",
      "source": [
        "for i in range(1,6):\n",
        "    for j in range(i):\n",
        "        print(\"*\",end=\"\")\n",
        "    print()"
      ],
      "metadata": {
        "colab": {
          "base_uri": "https://localhost:8080/"
        },
        "id": "jmqTjw4Haz0C",
        "outputId": "2ddfbd7a-f2b7-4319-dca9-ff718637205e"
      },
      "execution_count": null,
      "outputs": [
        {
          "output_type": "stream",
          "name": "stdout",
          "text": [
            "*\n",
            "**\n",
            "***\n",
            "****\n",
            "*****\n"
          ]
        }
      ]
    },
    {
      "cell_type": "markdown",
      "source": [
        "Q6. Reverse a String (Using for Loop)\n",
        "\n",
        "Write a program to reverse a string using a for loop."
      ],
      "metadata": {
        "id": "myhiVDd-bgTr"
      }
    },
    {
      "cell_type": "code",
      "source": [
        "given_string = \"hello reversString Written by Imtiaz \"\n",
        "# given_string = \"helloReversStringWrittenByImtiaz \"\n",
        "reversed_string = \"\"\n",
        "for char in given_string:\n",
        "    reversed_string = char + reversed_string\n",
        "    # print(reversed_string)\n",
        "    # print(f\"The reversed string is: {reversed_string}\")  ....wrong approach what i want\n",
        "print(f\"The reversed string is: {reversed_string}\")\n"
      ],
      "metadata": {
        "colab": {
          "base_uri": "https://localhost:8080/"
        },
        "id": "A5aI5yqOb1NX",
        "outputId": "cebd91c7-9ff6-4226-fbf7-8306da292818"
      },
      "execution_count": null,
      "outputs": [
        {
          "output_type": "stream",
          "name": "stdout",
          "text": [
            "The reversed string is:  zaitmI yb nettirW gnirtSsrever olleh\n"
          ]
        }
      ]
    },
    {
      "cell_type": "markdown",
      "source": [
        "# **Scenario-Based Problems**"
      ],
      "metadata": {
        "id": "cdNNI2ENfUSG"
      }
    },
    {
      "cell_type": "markdown",
      "source": [
        "**Q7:Counting Items in a Grocery List**\n",
        "\n",
        "Given a list of grocery items: [\"milk\", \"bread\", \"eggs\", \"butter\", \"cheese\"]\n",
        "\n",
        " write a program to count the total number of items in the list."
      ],
      "metadata": {
        "id": "jNdmIUuMfu6o"
      }
    },
    {
      "cell_type": "code",
      "source": [
        "grocery_list = [\"milk\", \"bread\", \"eggs\", \"butter\", \"cheese\"]\n",
        "count = 0\n",
        "for item in grocery_list:\n",
        "    count += 1\n",
        "print(f\"The total number of items in the grocery list is: {count}\")\n",
        "\n",
        "# second method easy method using len()\n",
        "item_count = len(grocery_list)\n",
        "print(f\"The total number of items in the grocery list is: {item_count}\")"
      ],
      "metadata": {
        "colab": {
          "base_uri": "https://localhost:8080/"
        },
        "id": "AE7vsDvCf_e1",
        "outputId": "d9afe308-cc6e-4ec5-efd3-e0f74d17531a"
      },
      "execution_count": null,
      "outputs": [
        {
          "output_type": "stream",
          "name": "stdout",
          "text": [
            "The total number of items in the grocery list is: 5\n",
            "The total number of items in the grocery list is: 5\n"
          ]
        }
      ]
    },
    {
      "cell_type": "markdown",
      "source": [
        "Q8: Password Attempt Checker\n",
        "\n",
        "Create a program where the user is allowed 3 attempts to enter the correct password.\n",
        "If the password is entered correctly, print \"Access Granted\".\n",
        "If all attempts are exhausted, print \"Access Denied\"."
      ],
      "metadata": {
        "id": "tPyVoe2TioaQ"
      }
    },
    {
      "cell_type": "code",
      "source": [
        "correct_p = \"12345\"\n",
        "attempts = 3\n",
        "while attempts > 0 :\n",
        "    password = input(\"Enter the password: \")\n",
        "    if password == correct_p:\n",
        "        print(\"Access Granted\")\n",
        "        break\n",
        "    else:\n",
        "        attempts -= 1\n",
        "        print(f\"Access Denied. You have {attempts} attempts left.\")\n",
        "if attempts == 0:\n",
        "    print(\"Access Denied. Maximum attempts reached.\")\n"
      ],
      "metadata": {
        "colab": {
          "base_uri": "https://localhost:8080/"
        },
        "id": "I4DHaC7ZkhH8",
        "outputId": "6e4f77a7-464c-4805-e47d-105f481b8e1d"
      },
      "execution_count": null,
      "outputs": [
        {
          "output_type": "stream",
          "name": "stdout",
          "text": [
            "Enter the password: 1\n",
            "Access Denied. You have 2 attempts left.\n",
            "Enter the password: 2\n",
            "Access Denied. You have 1 attempts left.\n",
            "Enter the password: 123\n",
            "Access Denied. You have 0 attempts left.\n",
            "Access Denied. Maximum attempts reached.\n"
          ]
        }
      ]
    },
    {
      "cell_type": "markdown",
      "source": [
        "Q9: Calculate Square Numbers\n",
        "\n",
        "Write a program to generate and print the square of each number from 1 to 10.\n",
        "Format the output as: 1^2 = 1, 2^2 = 4, etc."
      ],
      "metadata": {
        "id": "oNTsA3yqk2ev"
      }
    },
    {
      "cell_type": "code",
      "source": [
        "for i in range(1,11):\n",
        "  print(f\"{i}^2 = {i**2}\")"
      ],
      "metadata": {
        "colab": {
          "base_uri": "https://localhost:8080/"
        },
        "id": "b7-uLzlSlGON",
        "outputId": "021e5680-2077-44ff-bd7f-e0d1501372bf"
      },
      "execution_count": null,
      "outputs": [
        {
          "output_type": "stream",
          "name": "stdout",
          "text": [
            "1^2 = 1\n",
            "2^2 = 4\n",
            "3^2 = 9\n",
            "4^2 = 16\n",
            "5^2 = 25\n",
            "6^2 = 36\n",
            "7^2 = 49\n",
            "8^2 = 64\n",
            "9^2 = 81\n",
            "10^2 = 100\n"
          ]
        }
      ]
    },
    {
      "cell_type": "markdown",
      "source": [
        "Q10 : Bank Withdrawal Simulation\n",
        "\n",
        "Write a program where a user can withdraw money from an initial balance of 5000.\n",
        "For every withdrawal:\n",
        "\n",
        "\n",
        "*   Deduct the amount from the balance.\n",
        "\n",
        "*   Print the remaining balance.\n",
        "\n",
        "\n",
        "*   Stop withdrawals when the balance reaches 0, or if the user chooses to quit.\n",
        "\n",
        "\n",
        "\n"
      ],
      "metadata": {
        "id": "Oj7LDRbklgOc"
      }
    },
    {
      "cell_type": "code",
      "source": [
        "initial_balance = 5000\n",
        "while initial_balance > 0:\n",
        "    print(f\"Current balance: {initial_balance}\")\n",
        "    print()\n",
        "    choice = input(\"Do you want to withdraw money? (yes/quit): \")\n",
        "    if choice.lower() == \"yes\":\n",
        "        amount = int(input(\"Enter the amount to withdraw: \"))\n",
        "        if amount <= initial_balance:\n",
        "            initial_balance -= amount\n",
        "            print(f\"Remaining balance: {initial_balance}\")\n",
        "        else:\n",
        "            print(\"Insufficient balance.\")\n",
        "    elif choice.lower() == \"quit\":\n",
        "        print(\"Withdrawal stopped.\")\n",
        "        break"
      ],
      "metadata": {
        "colab": {
          "base_uri": "https://localhost:8080/"
        },
        "id": "ltanKlUDrFge",
        "outputId": "a1226534-8ccf-481b-b4d8-dac8089c2c31"
      },
      "execution_count": null,
      "outputs": [
        {
          "output_type": "stream",
          "name": "stdout",
          "text": [
            "Current balance: 5000\n",
            "\n",
            "Do you want to withdraw money? (yes/quit): yes\n",
            "Enter the amount to withdraw: 6000\n",
            "Insufficient balance.\n",
            "Current balance: 5000\n",
            "\n",
            "Do you want to withdraw money? (yes/quit): yes\n",
            "Enter the amount to withdraw: 15\n",
            "Remaining balance: 4985\n",
            "Current balance: 4985\n",
            "\n",
            "Do you want to withdraw money? (yes/quit): quit\n",
            "Withdrawal stopped.\n"
          ]
        }
      ]
    },
    {
      "cell_type": "markdown",
      "source": [
        "Q11: Celsius to Fahrenheit Converter\n",
        "\n",
        "\n",
        "*  Write a program to convert a given list of temperatures in Celsius: [0, 10,\n",
        "20, 30, 40] to Fahrenheit using the formula:\n",
        "*   F = C × 9/5 + 32\n",
        "\n",
        "* Display the conversion results in a formatted output, e.g., \"0°C = 32.0°F\".\n"
      ],
      "metadata": {
        "id": "fyUfRihQsC5Z"
      }
    },
    {
      "cell_type": "code",
      "source": [
        "temp_Celsius = [0 , 10 , 20 , 30]\n",
        "for i in temp_Celsius:\n",
        "    temp_Fahrenheit = i * 9/5 + 32\n",
        "    print(f\"{i}°C = {temp_Fahrenheit}°F\")"
      ],
      "metadata": {
        "colab": {
          "base_uri": "https://localhost:8080/"
        },
        "id": "d_wnpqWos3Dh",
        "outputId": "bd371a6f-5253-4c41-f486-772e92ff44b7"
      },
      "execution_count": null,
      "outputs": [
        {
          "output_type": "stream",
          "name": "stdout",
          "text": [
            "0°C = 32.0°F\n",
            "10°C = 50.0°F\n",
            "20°C = 68.0°F\n",
            "30°C = 86.0°F\n"
          ]
        }
      ]
    },
    {
      "cell_type": "markdown",
      "source": [
        "Q12: Find the Largest and Smallest Numbers\n",
        "Write a program to find the largest and smallest numbers in a list."
      ],
      "metadata": {
        "id": "j4DV1M3DtaYi"
      }
    },
    {
      "cell_type": "code",
      "source": [
        "given_list = [10, 5, 20, 15, 30,50]\n",
        "largest = max(given_list)\n",
        "smallest = min(given_list)\n",
        "print(f\"The largest number is: {largest}\")\n",
        "print(f\"The smallest number is: {smallest}\")"
      ],
      "metadata": {
        "colab": {
          "base_uri": "https://localhost:8080/"
        },
        "id": "LWBSx3Yrthif",
        "outputId": "317b9bdf-42aa-4317-acc7-3206a011e253"
      },
      "execution_count": null,
      "outputs": [
        {
          "output_type": "stream",
          "name": "stdout",
          "text": [
            "The largest number is: 50\n",
            "The smallest number is: 5\n"
          ]
        }
      ]
    },
    {
      "cell_type": "markdown",
      "source": [
        "**Q13**:\n",
        "Remove Duplicates\n",
        "Write a program to remove duplicates from a list.\n",
        "\n",
        "\n"
      ],
      "metadata": {
        "id": "J0DRttDdvHEA"
      }
    },
    {
      "cell_type": "code",
      "source": [
        "numbers = [1, 2, 3, 2, 4, 5, 4, 6, 7, 5]\n",
        "unique_list =  list(set(numbers)) #by converting list into set we can remove Duplicates\n",
        "print(unique_list)"
      ],
      "metadata": {
        "colab": {
          "base_uri": "https://localhost:8080/"
        },
        "id": "mOIXv4W6vZZW",
        "outputId": "f403e944-2c11-4f48-bb91-98a3211760bd"
      },
      "execution_count": null,
      "outputs": [
        {
          "output_type": "stream",
          "name": "stdout",
          "text": [
            "[1, 2, 3, 4, 5, 6, 7]\n"
          ]
        }
      ]
    },
    {
      "cell_type": "markdown",
      "source": [
        "Q14: **Shopping Cart Manager**\n",
        "\n",
        "* You are building a shopping cart.\n",
        "\n",
        "user should perform all operations\n",
        "Write a program to:\n",
        "\n",
        "* Add items to the cart.\n",
        "* Remove an item if it's out of stock.\n",
        "* Show the total number of unique items in the cart."
      ],
      "metadata": {
        "id": "YQ17c-eGxuJJ"
      }
    },
    {
      "cell_type": "code",
      "source": [
        "# Initialize an empty shopping cart\n",
        "cart = []\n",
        "\n",
        "print(\"Welcome to the Shopping Cart Manager!\")\n",
        "print(\"Available operations:\")\n",
        "print(\"1. Add an item to the cart\")\n",
        "print(\"2. Remove an out-of-stock item from the cart\")\n",
        "print(\"3. Show total number of unique items in the cart\")\n",
        "print(\"4. Exit\")\n",
        "\n",
        "while True:\n",
        "    print(\"Current Items In Cart Are : \" , cart)\n",
        "    choice = input(\"Enter the number for the operation you want to perform (1-4): \")\n",
        "    if choice == \"1\":\n",
        "        item = input(\"Enter the item you want to add To Cart : \")\n",
        "        cart.append(item)\n",
        "        print(f\"{item} has been added to the cart.\")\n",
        "    elif choice == \"2\":\n",
        "        item = input(\"Enter The Item You want to Remove from Cart : \")\n",
        "        if item in cart:\n",
        "            cart.remove(item)\n",
        "            print(f\"{item} has been removed from the cart.\")\n",
        "        else:\n",
        "            print(f\"{item} is not found in the cart.\")\n",
        "\n",
        "    elif choice == \"3\":\n",
        "       unique_item = set(cart)\n",
        "       print(f\"Total number of unique items in the cart: {len(unique_item)}\")\n",
        "    elif choice == \"4\":\n",
        "        print(\"Thank you for using the Shopping Cart Manager. Goodbye!\")\n",
        "        break\n",
        "\n",
        "    else:\n",
        "        print(\"Invalid choice. Please enter a number between 1 and 4.\")"
      ],
      "metadata": {
        "colab": {
          "base_uri": "https://localhost:8080/"
        },
        "id": "GsNnPZ2hyDO7",
        "outputId": "6ffed210-1a20-4d0a-b357-ec9d2291a797"
      },
      "execution_count": null,
      "outputs": [
        {
          "output_type": "stream",
          "name": "stdout",
          "text": [
            "Welcome to the Shopping Cart Manager!\n",
            "Available operations:\n",
            "1. Add an item to the cart\n",
            "2. Remove an out-of-stock item from the cart\n",
            "3. Show total number of unique items in the cart\n",
            "4. Exit\n",
            "Current Items In Cart Are :  []\n",
            "Enter the number for the operation you want to perform (1-4): 1\n",
            "Enter the item you want to add To Cart : apple\n",
            "apple has been added to the cart.\n",
            "Current Items In Cart Are :  ['apple']\n",
            "Enter the number for the operation you want to perform (1-4): 1\n",
            "Enter the item you want to add To Cart : apple\n",
            "apple has been added to the cart.\n",
            "Current Items In Cart Are :  ['apple', 'apple']\n",
            "Enter the number for the operation you want to perform (1-4): 4\n",
            "Thank you for using the Shopping Cart Manager. Goodbye!\n"
          ]
        }
      ]
    },
    {
      "cell_type": "markdown",
      "source": [
        "**Q15: Student Score Tracker**\n",
        "\n",
        "You have a list of students' scores:\n",
        "\n",
        " [56, 78, 90, 78, 88, 90, 56].\n",
        "\n",
        "Write a program to:\n",
        "\n",
        "* Count how many times each score occurs.\n",
        "* Sort the scores in descending order.\n",
        "* Remove the lowest score."
      ],
      "metadata": {
        "id": "p8ayXUdW3FoB"
      }
    },
    {
      "cell_type": "code",
      "source": [
        "student_score = [56, 78, 90, 78, 88, 90, 56]\n",
        "# step 1\n",
        "score_count = {}\n",
        "for score in student_score:\n",
        "    if score in score_count:\n",
        "      score_count[score] += 1\n",
        "\n",
        "    else:\n",
        "      score_count[score] = 1\n",
        "print(\"Score occurrences: \")\n",
        "for score, count in score_count.items():\n",
        "    print(f\"Score {score}: {count} times\")\n",
        "\n",
        "# step 2\n",
        "sorted_score = sorted(student_score , reverse = True)\n",
        "print(\"\\nScores sorted in descending order:\", sorted_score)\n",
        "\n",
        "# # step 3\n",
        "# sorted_score.pop()                               #first method\n",
        "# print(\"\\nScores after removing the lowest score:\", sorted_score)\n",
        "\n",
        "# second method\n",
        "lowest_score = min(student_score)\n",
        "student_score.remove(lowest_score)\n",
        "print(\"\\nScores after removing the lowest score:\", student_score)\n",
        "\n"
      ],
      "metadata": {
        "colab": {
          "base_uri": "https://localhost:8080/"
        },
        "id": "y56ad9z33mKJ",
        "outputId": "26e11e23-9457-43dc-c9d7-f7f506862b49"
      },
      "execution_count": null,
      "outputs": [
        {
          "output_type": "stream",
          "name": "stdout",
          "text": [
            "Score occurrences: \n",
            "Score 56: 2 times\n",
            "Score 78: 2 times\n",
            "Score 90: 2 times\n",
            "Score 88: 1 times\n",
            "\n",
            "Scores sorted in descending order: [90, 90, 88, 78, 78, 56, 56]\n",
            "\n",
            "Scores after removing the lowest score: [78, 90, 78, 88, 90, 56]\n"
          ]
        }
      ]
    },
    {
      "cell_type": "markdown",
      "source": [
        "Q16: **Merge and Sort Lists**\n",
        "\n",
        "You have two lists of employee names:\n",
        "\n",
        " [\"Alice\", \"Bob\", \"Charlie\"] and\n",
        "\n",
        " [\"David\", \"Eve\", \"Alice\"].\n",
        "\n",
        " Write a program to:\n",
        "\n",
        " * Merge the two lists.\n",
        " * Remove duplicate names.\n",
        " * Sort the final list alphabetically."
      ],
      "metadata": {
        "id": "QaItMZO57yOW"
      }
    },
    {
      "cell_type": "code",
      "source": [
        "emp_list1 = [\"Alice\" , \"Bob\" , \"Charlie\"]\n",
        "emp_list2 = [\"David\" , \"Eve\" , \"Alice\"]\n",
        "merged_list = emp_list1 + emp_list2\n",
        "print(merged_list)\n",
        "unique_list = list(set(merged_list))\n",
        "print(unique_list)\n",
        "sorted_list = sorted(unique_list)\n",
        "print(sorted_list)\n"
      ],
      "metadata": {
        "colab": {
          "base_uri": "https://localhost:8080/"
        },
        "id": "OZ8ut7Pw8EJd",
        "outputId": "b07433e1-88ca-45a1-c54b-16b0e6e78b80"
      },
      "execution_count": null,
      "outputs": [
        {
          "output_type": "stream",
          "name": "stdout",
          "text": [
            "['Alice', 'Bob', 'Charlie', 'David', 'Eve', 'Alice']\n",
            "['Bob', 'Charlie', 'David', 'Alice', 'Eve']\n",
            "['Alice', 'Bob', 'Charlie', 'David', 'Eve']\n"
          ]
        }
      ]
    },
    {
      "cell_type": "markdown",
      "source": [
        "Q17: **Inventory Management**\n",
        "\n",
        "You have a list representing inventory items: [\"apple\", \"banana\", \"orange\", \"banana\"].\n",
        "\n",
        " Write a program to:\n",
        "\n",
        "* Find the position of the first \"banana\".\n",
        "* Replace \"banana\" with \"grape\" at the first occurrence.\n",
        "* Count how many times \"banana\" appears in the inventory."
      ],
      "metadata": {
        "id": "64YV6JJR8lwZ"
      }
    },
    {
      "cell_type": "code",
      "source": [
        "inventory_items = [\"apple\", \"banana\", \"orange\", \"banana\"]\n",
        "# step 1\n",
        "first_banana_position = inventory_items.index(\"banana\")\n",
        "print(\"Position of the first 'banana':\", first_banana_position)\n",
        "\n",
        "# step 2\n",
        "inventory_items[first_banana_position] = \"grape\"\n",
        "print(\"Replaced 'banana' with 'grape' successfully \")\n",
        "# step 3\n",
        "banana_count = inventory_items.count(\"banana\")\n",
        "print(\"Count of 'banana' in the inventory:\", banana_count)\n",
        "\n"
      ],
      "metadata": {
        "colab": {
          "base_uri": "https://localhost:8080/"
        },
        "id": "DEgaF8i99Bta",
        "outputId": "71ad72bb-3d7c-4181-94bb-164f41940694"
      },
      "execution_count": null,
      "outputs": [
        {
          "output_type": "stream",
          "name": "stdout",
          "text": [
            "Position of the first 'banana': 1\n",
            "Replaced 'banana' with 'grape' successfully \n",
            "Count of 'banana' in the inventory: 1\n"
          ]
        }
      ]
    },
    {
      "cell_type": "markdown",
      "source": [
        "Q18: **Task Organizer**\n",
        "\n",
        "You are managing a to-do list:\n",
        "[\"Read a book\", \"Write code\", \"Exercise\"].\n",
        " Write a program to:\n",
        "* Add a new task at the end of the list.\n",
        "* Insert \"Buy groceries\" at the second position.\n",
        "* Reverse the order of tasks.\n",
        "* Clear the to-do list after all tasks are completed."
      ],
      "metadata": {
        "id": "Ac_TWAxjAHaL"
      }
    },
    {
      "cell_type": "code",
      "source": [
        "my_tasks = [\"Read a book\", \"Write code\", \"Exercise\"]\n",
        "print(\"Cuurent Todo Tasks are : \" , my_tasks)\n",
        "# step 1\n",
        "new_task = input(\"Enter a New Task : \")\n",
        "my_tasks.append(new_task)\n",
        "print(\"You added a new Task in TO-DO :  \", my_tasks)\n",
        "# step 2\n",
        "my_tasks[2] = \"Buy groceries\"\n",
        "print(\"Inserted Buy groceries' at the second position successfully\")\n",
        "# step 3\n",
        "reversed_tasks = my_tasks[::-1]\n",
        "print(\"Reversed the order of tasks successfully\" , reversed_tasks)\n",
        "# step 4\n",
        "my_tasks.clear()\n",
        "print(\"Cleared the to-do list successfully\")"
      ],
      "metadata": {
        "colab": {
          "base_uri": "https://localhost:8080/"
        },
        "id": "9HC0hHVQBJGC",
        "outputId": "bead5ea8-6be7-4d34-a91a-76e1eedcd193"
      },
      "execution_count": null,
      "outputs": [
        {
          "output_type": "stream",
          "name": "stdout",
          "text": [
            "Cuurent Todo Tasks are :  ['Read a book', 'Write code', 'Exercise']\n",
            "Enter a New Task : eating\n",
            "You added a new Task in TO-DO :   ['Read a book', 'Write code', 'Exercise', 'eating']\n",
            "Inserted Buy groceries' at the second position successfully\n",
            "Reversed the order of tasks successfully ['eating', 'Buy groceries', 'Write code', 'Read a book']\n",
            "Cleared the to-do list successfully\n"
          ]
        }
      ]
    },
    {
      "cell_type": "markdown",
      "source": [
        "Q19: **Student Record**\n",
        "\n",
        "Write a program to manage a dictionary where the keys are student names and the values are their grades. Allow the user to:\n",
        "\n",
        "* Add a new student with their grade.\n",
        "* Update a grade for an existing student.\n",
        "* Display all students and their grades."
      ],
      "metadata": {
        "id": "4a2hE8VxFfcs"
      }
    },
    {
      "cell_type": "code",
      "source": [
        "# Initialize an empty dictionary to store student records\n",
        "student_records = {}\n",
        "\n",
        "print(\"Welcome to the Student Record Manager!\")\n",
        "print(\"Available operations:\")\n",
        "print(\"1. Add a new student with their grade\")\n",
        "print(\"2. Update a grade for an existing student\")\n",
        "print(\"3. Display all students and their grades\")\n",
        "print(\"4. Exit\")\n",
        "while True:\n",
        "    choice = input(\"\\nEnter the number for the operation you want to perform (1-4): \")\n",
        "    if choice == \"1\" :\n",
        "       name = input(\"Enter the student's name: \")\n",
        "       if name in student_records:\n",
        "          print(f\"Student {name} already exists with grade {student_records[name]}.\")\n",
        "       else:\n",
        "          grade = input(\"Enter the student's grade: \")\n",
        "          student_records[name] = grade\n",
        "          print(f\"Student {name} with grade {grade} has been added.\")\n",
        "  # step 2\n",
        "    elif choice == \"2\":\n",
        "       name = input(\"Enter the student's name: \")\n",
        "       if name in student_records:\n",
        "          new_grade = input(\"Enter the new grade: \")\n",
        "          student_records[name] = new_grade\n",
        "          print(f\"Grade for student {name} has been updated to {new_grade}.\")\n",
        "# step 3 to display students\n",
        "    elif choice == \"3\":\n",
        "       if student_records:\n",
        "         print(\"\\nStudent Records:\")\n",
        "         for name , grade in student_records.items():\n",
        "          print(f\"{name}: {grade}\")\n",
        "       else:\n",
        "            print(\"No student records available.\")\n",
        "\n",
        "    elif choice == \"4\":\n",
        "        print(\"Thank you for using the Student Record Manager. Goodbye!\")\n",
        "        break\n",
        "    else:\n",
        "        print(\"Invalid choice. Please enter a number between 1 and 4.\")\n",
        "\n",
        "\n"
      ],
      "metadata": {
        "colab": {
          "base_uri": "https://localhost:8080/"
        },
        "id": "4UVpA-ICF31s",
        "outputId": "a9e91056-b834-4b07-ab69-ee44f649c3df"
      },
      "execution_count": null,
      "outputs": [
        {
          "output_type": "stream",
          "name": "stdout",
          "text": [
            "Welcome to the Student Record Manager!\n",
            "Available operations:\n",
            "1. Add a new student with their grade\n",
            "2. Update a grade for an existing student\n",
            "3. Display all students and their grades\n",
            "4. Exit\n",
            "\n",
            "Enter the number for the operation you want to perform (1-4): 4\n",
            "Thank you for using the Student Record Manager. Goodbye!\n"
          ]
        }
      ]
    },
    {
      "cell_type": "markdown",
      "source": [
        "Q20: **Unique Words Counter**\n",
        "\n",
        "Write a program to read a string from the user and count the number of unique words using a set."
      ],
      "metadata": {
        "id": "fP-9l200IwZk"
      }
    },
    {
      "cell_type": "code",
      "source": [
        "text = input(\"Enter a string: \")\n",
        "# split() method splits the string into list of words\n",
        "words = text.split()\n",
        "unique_words = set(words)\n",
        "print(\"unique words are : \" , unique_words)\n",
        "word_count = len(unique_words)\n",
        "\n",
        "print(f\"Number of unique words: {word_count}\")"
      ],
      "metadata": {
        "colab": {
          "base_uri": "https://localhost:8080/"
        },
        "id": "kMeVtgiWI-d7",
        "outputId": "215a6b3c-7946-41d2-be2d-470f46fc9896"
      },
      "execution_count": null,
      "outputs": [
        {
          "output_type": "stream",
          "name": "stdout",
          "text": [
            "Enter a string: my my name is is imtiaz malik\n",
            "unique words are :  {'name', 'is', 'malik', 'imtiaz', 'my'}\n",
            "Number of unique words: 5\n"
          ]
        }
      ]
    },
    {
      "cell_type": "markdown",
      "source": [
        "Q 21: 3. **Set Operations**\n",
        "Create two sets:\n",
        "\n",
        "* Perform union, intersection, and difference.\n",
        "* Print the results."
      ],
      "metadata": {
        "id": "oy3mDtLBLAV5"
      }
    },
    {
      "cell_type": "code",
      "source": [
        "set1 = {1, 2, 3, 4, 5}\n",
        "set2 = {4, 5, 6, 7, 8}\n",
        "\n",
        "# union\n",
        "union_result = set1 | set2\n",
        "print(\"Union of set1 and set2:\", union_result)\n",
        "\n",
        "# intersaction\n",
        "intersection_result = set1 & set2\n",
        "print(\"Intersection of set1 and set2:\", intersection_result)\n",
        "# Difference: Elements in set1 but not in set2\n",
        "difference_result = set1 - set2  # second method  Alternatively, you can use set1.difference(set2)\n",
        "print(\"Difference of set1 and set2 (set1 - set2):\", difference_result)"
      ],
      "metadata": {
        "colab": {
          "base_uri": "https://localhost:8080/"
        },
        "id": "mVMCn8zULKlu",
        "outputId": "7bd8f1f5-d165-473d-bc0d-3664209d5bf8"
      },
      "execution_count": null,
      "outputs": [
        {
          "output_type": "stream",
          "name": "stdout",
          "text": [
            "Union of set1 and set2: {1, 2, 3, 4, 5, 6, 7, 8}\n",
            "Intersection of set1 and set2: {4, 5}\n",
            "Difference of set1 and set2 (set1 - set2): {1, 2, 3}\n"
          ]
        }
      ]
    },
    {
      "cell_type": "markdown",
      "source": [
        "Q 22: **Inventory Management**\n",
        "\n",
        "Maintain an inventory of items using a set. Write a program to:\n",
        "\n",
        "* Add new items.\n",
        "* Remove an item that’s sold out.\n",
        "* Display the current inventory."
      ],
      "metadata": {
        "id": "rVQ09dHoa6t3"
      }
    },
    {
      "cell_type": "code",
      "source": [
        "inventory = set()\n",
        "\n",
        "print(\"Welcome to the Inventory Management System!\")\n",
        "print(\"Available operations:\")\n",
        "print(\"1. Add a new item\")\n",
        "print(\"2. Remove an item (sold out)\")\n",
        "print(\"3. Display current inventory\")\n",
        "print(\"4. Exit\")\n",
        "\n",
        "while True:\n",
        "    choice = input(\"\\nEnter the number for the operation you want to perform (1-4): \")\n",
        "\n",
        "    if choice == \"1\":\n",
        "        # Add new items\n",
        "        item = input(\"Enter the name of the item to add: \").strip() #Cleaning Input: When users enter data, they might accidentally add spaces before or after the text.\n",
        "                                                                    #Using strip() ensures that these spaces are removed, and the input is clean.\n",
        "        if item in inventory:\n",
        "            print(f\"'{item}' is already in the inventory.\")\n",
        "        else:\n",
        "            inventory.add(item)\n",
        "            print(f\"'{item}' has been added to the inventory.\")\n",
        "\n",
        "    elif choice == \"2\":\n",
        "        # Remove an item that's sold out\n",
        "        item = input(\"Enter the name of the item to remove: \").strip()\n",
        "        if item in inventory:\n",
        "            inventory.remove(item)\n",
        "            print(f\"'{item}' has been removed from the inventory.\")\n",
        "        else:\n",
        "            print(f\"'{item}' is not in the inventory.\")\n",
        "\n",
        "    elif choice == \"3\":\n",
        "        # Display the current inventory\n",
        "        if inventory:\n",
        "            print(\"\\nCurrent Inventory:\")\n",
        "            for i, item in enumerate(inventory, start=1):\n",
        "                print(f\"{i}. {item}\")\n",
        "        else:\n",
        "            print(\"The inventory is empty.\")\n",
        "\n",
        "    elif choice == \"4\":\n",
        "        # Exit the program\n",
        "        print(\"Exiting Inventory Management System. Goodbye!\")\n",
        "        break\n",
        "\n",
        "    else:\n",
        "        print(\"Invalid choice! Please enter a number between 1 and 4.\")\n"
      ],
      "metadata": {
        "colab": {
          "base_uri": "https://localhost:8080/"
        },
        "id": "0mghiB2sbFaZ",
        "outputId": "f0fbe254-4182-4bbd-9644-735307c2a6e0"
      },
      "execution_count": null,
      "outputs": [
        {
          "output_type": "stream",
          "name": "stdout",
          "text": [
            "Welcome to the Inventory Management System!\n",
            "Available operations:\n",
            "1. Add a new item\n",
            "2. Remove an item (sold out)\n",
            "3. Display current inventory\n",
            "4. Exit\n",
            "\n",
            "Enter the number for the operation you want to perform (1-4): 4\n",
            "Exiting Inventory Management System. Goodbye!\n"
          ]
        }
      ]
    },
    {
      "cell_type": "markdown",
      "source": [
        "# Advance Level Tasks\n",
        "\n",
        "Q23 : **Expense Categorizer**\n",
        "Write a program that:\n",
        "\n",
        "* Allows the user to input their daily expenses along with a category (e.g., \"Food\", \"Transport\", \"Entertainment\").\n",
        "* Organizes these expenses in a dictionary where the category is the key and the value is a list of expenses.\n",
        "* Displays the total expenses for each category.\n",
        "Identifies and prints the category with the highest spending."
      ],
      "metadata": {
        "id": "C85K4m-jecas"
      }
    },
    {
      "cell_type": "code",
      "source": [
        "# Initialize an empty dictionary to store expenses\n",
        "expenses = {}\n",
        "\n",
        "print(\"Welcome to the Expense Categorizer!\")\n",
        "print(\"Enter your expenses along with their categories.\")\n",
        "print(\"Type 'done' as the category to stop adding expenses.\\n\")\n",
        "\n",
        "# Step 1: Input expenses\n",
        "while True:\n",
        "    category = input(\"Enter the category (e.g., Food, Transport, Entertainment): \").strip()\n",
        "    if category.lower() == \"done\":\n",
        "        break\n",
        "    amount = input(f\"Enter the expense amount for {category}: \").strip()\n",
        "\n",
        "    try:\n",
        "        amount = float(amount)\n",
        "        # Add the expense to the appropriate category\n",
        "        if category in expenses:\n",
        "            expenses[category].append(amount)\n",
        "        else:\n",
        "            expenses[category] = [amount]\n",
        "    except ValueError:\n",
        "        print(\"Invalid amount. Please enter a numeric value.\")\n",
        "\n",
        "# Step 2: Display total expenses per category\n",
        "print(\"\\nTotal expenses by category:\")\n",
        "highest_spending = 0\n",
        "highest_category = None\n",
        "\n",
        "# :.2f formats this floating-point value to two decimal places.\n",
        "# : starts the format specification.\n",
        "# .2 specifies that the number should be rounded to two decimal places.\n",
        "# f ensures the value is formatted as a floating-point number.\n",
        "\n",
        "for category, amounts in expenses.items():\n",
        "    total = sum(amounts)\n",
        "    print(f\"- {category}: ${total:.2f}\")\n",
        "    if total > highest_spending:\n",
        "        highest_spending = total\n",
        "        highest_category = category\n",
        "\n",
        "# Step 3: Identify and print the category with the highest spending\n",
        "if highest_category:\n",
        "    print(f\"\\nCategory with the highest spending: {highest_category} (${highest_spending:.2f})\")\n",
        "else:\n",
        "    print(\"\\nNo expenses were entered.\")\n"
      ],
      "metadata": {
        "id": "Zcwxbyr9gx3y"
      },
      "execution_count": null,
      "outputs": []
    },
    {
      "cell_type": "markdown",
      "source": [
        "Q 24 :\n",
        "**Student Attendance Tracker**\n",
        "Write a program to manage student attendance:\n",
        "\n",
        "* Create a dictionary where the keys are student names and the values are the number of days they were present.\n",
        "Allow the user to:\n",
        " * Add a student.\n",
        " * Update attendance for an existing student.\n",
        " * Display all students and their attendance.\n",
        " * Find and display the student with the highest attendance."
      ],
      "metadata": {
        "id": "5BtwIN2ohiaW"
      }
    },
    {
      "cell_type": "code",
      "source": [
        "attendance = {}\n",
        "\n",
        "print(\"Welcome to the Student Attendance Tracker!\")\n",
        "print(\"Choose an option:\")\n",
        "print(\"1. Add a student\")\n",
        "print(\"2. Update attendance\")\n",
        "print(\"3. Display all students and their attendance\")\n",
        "print(\"4. Find student with highest attendance\")\n",
        "print(\"5. Exit\\n\")\n",
        "\n",
        "while True:\n",
        "    choice = input(\"Enter your choice (1-5): \").strip()\n",
        "\n",
        "    if choice == \"1\":\n",
        "        # Step1 Add a new student\n",
        "        student = input(\"Enter the student's name: \").strip()\n",
        "        if student in attendance:\n",
        "            print(f\"{student} is already in the attendance list.\")\n",
        "        else:\n",
        "            attendance[student] = 0  # Initialize attendance to 0\n",
        "            print(f\"{student} added with 0 days of attendance.\")\n",
        "\n",
        "    elif choice == \"2\":\n",
        "        # Step2 Update attendance for an existing student\n",
        "        student = input(\"Enter the student's name: \").strip()\n",
        "        if student in attendance:\n",
        "            try:\n",
        "                days = int(input(f\"Enter the number of days to add for {student}: \").strip())\n",
        "                attendance[student] += days\n",
        "                print(f\"{student}'s attendance updated to {attendance[student]} days.\")\n",
        "            except ValueError:\n",
        "                print(\"Please enter a valid number.\")\n",
        "        else:\n",
        "            print(f\"{student} is not in the attendance list.\")\n",
        "\n",
        "    elif choice == \"3\":\n",
        "        # Step 3 Display all students and their attendance\n",
        "        if attendance:\n",
        "            print(\"\\nStudent Attendance List:\")\n",
        "            for student, days in attendance.items():\n",
        "                print(f\"- {student}: {days} days\")\n",
        "        else:\n",
        "            print(\"No students in the attendance list.\")\n",
        "\n",
        "    elif choice == \"4\":\n",
        "        # Step 4 Find the student with the highest attendance\n",
        "        if attendance:\n",
        "            highest_student = max(attendance, key=attendance.get)\n",
        "            print(f\"\\nStudent with the highest attendance: {highest_student} ({attendance[highest_student]} days)\")\n",
        "        else:\n",
        "            print(\"No students in the attendance list.\")\n",
        "\n",
        "    elif choice == \"5\":\n",
        "        # Step 5 Exit the program\n",
        "        print(\"Exiting the Student Attendance Tracker. Goodbye!\")\n",
        "        break\n",
        "\n",
        "    else:\n",
        "        print(\"Invalid choice! Please select a valid option (1-5).\")\n"
      ],
      "metadata": {
        "id": "esGIfvJmiT2f"
      },
      "execution_count": null,
      "outputs": []
    },
    {
      "cell_type": "markdown",
      "source": [
        "Q 25 **Shopping Cart Discount Calculator**\n",
        "\n",
        "Create a shopping cart program that:\n",
        "\n",
        "* Takes item prices as input and stores them in a list.\n",
        "* Calculates and displays the total price of the items.\n",
        "* If the total exceeds $100, apply a 10% discount.\n",
        "* Display the final price after any discount."
      ],
      "metadata": {
        "id": "HGhNr0RxjCYK"
      }
    },
    {
      "cell_type": "code",
      "source": [
        "# Initialize an empty list to store item prices\n",
        "cart = []\n",
        "\n",
        "print(\"Welcome to the Shopping Cart Program!\")\n",
        "print(\"Enter item prices. Type 'done' when you are finished.\\n\")\n",
        "\n",
        "# Step 1: Input item prices\n",
        "while True:\n",
        "    price = input(\"Enter the item price (or 'done' to finish): \").strip()\n",
        "    if price.lower() == \"done\":\n",
        "        break\n",
        "    try:\n",
        "        price = float(price)  # Convert input to a float\n",
        "        if price < 0:\n",
        "            print(\"Price cannot be negative. Please enter a valid price.\")\n",
        "        else:\n",
        "            cart.append(price)  # Add valid prices to the cart\n",
        "    except ValueError:\n",
        "        print(\"Invalid input. Please enter a numeric value.\")\n",
        "\n",
        "# Step 2: Calculate total price\n",
        "total_price = sum(cart)\n",
        "\n",
        "# Step 3: Apply discount if applicable\n",
        "if total_price > 100:\n",
        "    discount = total_price * 0.10  # 10% discount\n",
        "    final_price = total_price - discount\n",
        "    print(f\"\\nTotal price before discount: ${total_price:.2f}\")\n",
        "    print(f\"Discount applied: ${discount:.2f}\")\n",
        "else:\n",
        "    final_price = total_price\n",
        "    print(f\"\\nTotal price: ${total_price:.2f} (No discount applied)\")\n",
        "\n",
        "# Step 4: Display final price\n",
        "print(f\"Final price to pay: ${final_price:.2f}\")\n"
      ],
      "metadata": {
        "id": "U-tDwYIljkzO"
      },
      "execution_count": null,
      "outputs": []
    },
    {
      "cell_type": "markdown",
      "source": [
        "Q 26 : **Library Management System**\n",
        "\n",
        "Design a simple library management system:\n",
        "\n",
        "1. Use a set to keep track of available books.\n",
        "2. Allow the user to:\n",
        "* Add new books to the library.\n",
        "* Borrow a book (remove it from the set).\n",
        "* Return a book (add it back to the set).\n",
        "3. Display the current list of available books."
      ],
      "metadata": {
        "id": "8g9vY-5WkZeo"
      }
    },
    {
      "cell_type": "code",
      "source": [
        "# Initialize a set to store available books\n",
        "library = {\"Python Programming\", \"Data Science\", \"Machine Learning\", \"Artificial Intelligence\", \"Web Development\"}\n",
        "\n",
        "print(\"Welcome to the Library Management System!\")\n",
        "print(\"Available operations:\")\n",
        "print(\"1. Add a new book\")\n",
        "print(\"2. Borrow a book\")\n",
        "print(\"3. Return a book\")\n",
        "print(\"4. Display available books\")\n",
        "print(\"5. Exit\\n\")\n",
        "\n",
        "# Start the program\n",
        "while True:\n",
        "    # Display the menu\n",
        "    choice = input(\"Enter your choice (1-5): \").strip()\n",
        "\n",
        "    if choice == \"1\":\n",
        "        # Add a new book to the library\n",
        "        book = input(\"Enter the name of the book to add: \").strip()\n",
        "        library.add(book)\n",
        "        print(f\"'{book}' has been added to the library.\\n\")\n",
        "\n",
        "    elif choice == \"2\":\n",
        "        # Borrow a book\n",
        "        book = input(\"Enter the name of the book to borrow: \").strip()\n",
        "        if book in library:\n",
        "            library.remove(book)\n",
        "            print(f\"'{book}' has been borrowed from the library.\\n\")\n",
        "        else:\n",
        "            print(f\"Sorry, '{book}' is not available in the library.\\n\")\n",
        "\n",
        "    elif choice == \"3\":\n",
        "        # Return a book\n",
        "        book = input(\"Enter the name of the book to return: \").strip()\n",
        "        library.add(book)\n",
        "        print(f\"'{book}' has been returned to the library.\\n\")\n",
        "\n",
        "    elif choice == \"4\":\n",
        "        # Display the list of available books\n",
        "        if library:\n",
        "            print(\"\\nAvailable books in the library:\")\n",
        "            for book in library:\n",
        "                print(f\"- {book}\")\n",
        "        else:\n",
        "            print(\"No books available in the library.\\n\")\n",
        "\n",
        "    elif choice == \"5\":\n",
        "        # Exit the program\n",
        "        print(\"Exiting the Library Management System. Goodbye!\")\n",
        "        break\n",
        "\n",
        "    else:\n",
        "        print(\"Invalid choice! Please enter a valid option (1-5).\\n\")\n"
      ],
      "metadata": {
        "id": "i2D1LV9yk1qi"
      },
      "execution_count": null,
      "outputs": []
    },
    {
      "cell_type": "markdown",
      "source": [
        "Q27 **Word Frequency Counter**\n",
        "\n",
        "Write a program to:\n",
        "\n",
        "* Accept a paragraph of text from the user.\n",
        "* Split the paragraph into words and use a dictionary to count how many times each word appears.\n",
        "* Display the word frequencies in descending order of frequency."
      ],
      "metadata": {
        "id": "rpGCs8BQlVPM"
      }
    },
    {
      "cell_type": "code",
      "source": [
        "# Accept a paragraph of text from the user\n",
        "paragraph = input(\"Enter a paragraph of text: \").strip()\n",
        "\n",
        "# Convert the paragraph to lowercase and split it into words\n",
        "words = paragraph.lower().split()\n",
        "\n",
        "# Initialize an empty dictionary to store word frequencies\n",
        "word_frequency = {}\n",
        "\n",
        "# Count the frequency of each word\n",
        "for word in words:\n",
        "    if word in word_frequency:\n",
        "        word_frequency[word] += 1\n",
        "    else:\n",
        "        word_frequency[word] = 1\n",
        "# ---------------------New concept of sorting --------sorted(word_frequency.items(), key=lambda x: x[1], reverse=True)\n",
        "# Sort the word frequencies in descending order\n",
        "sorted_word_frequency = sorted(word_frequency.items(), key=lambda x: x[1], reverse=True)\n",
        "\n",
        "# Display the word frequencies\n",
        "print(\"\\nWord Frequencies (Descending Order):\")\n",
        "for word, frequency in sorted_word_frequency:\n",
        "    print(f\"{word}: {frequency}\")\n"
      ],
      "metadata": {
        "id": "KBfcyTT_llSW"
      },
      "execution_count": null,
      "outputs": []
    },
    {
      "cell_type": "markdown",
      "source": [
        "Q28: **Expense Tracker with Budget Analysis**\n",
        "\n",
        "\n",
        "Write a program that:\n",
        "\n",
        "* Allows the user to input their daily expenses along with a category (e.g., \"Food\", \"Transport\", \"Entertainment\").\n",
        "* Organizes these expenses in a dictionary where the category is the key, and the value is a list of expenses.\n",
        "* Displays the total expenses for each category.\n",
        "* Identifies and prints the category with the highest spending.\n",
        "* Compares the total spending against a specified budget and displays a warning message if the user exceeds the budget."
      ],
      "metadata": {
        "id": "PFObT0HYo2Ds"
      }
    },
    {
      "cell_type": "code",
      "source": [
        "# Initialize an empty dictionary to store expenses by category\n",
        "expenses = {}\n",
        "\n",
        "# Step 1: Input budget\n",
        "budget = float(input(\"Enter your budget: $\"))\n",
        "\n",
        "# Step 2: Input daily expenses\n",
        "while True:\n",
        "    category = input(\"Enter expense category (or type 'done' to finish): \").strip()\n",
        "    if category.lower() == \"done\":\n",
        "        break\n",
        "    amount = float(input(f\"Enter expense amount for {category}: $\"))\n",
        "\n",
        "    # Add the expense to the appropriate category\n",
        "    if category in expenses:\n",
        "        expenses[category].append(amount)\n",
        "    else:\n",
        "        expenses[category] = [amount]\n",
        "\n",
        "# Step 3: Display total expenses for each category\n",
        "print(\"\\nExpense Summary:\")\n",
        "total_spent = 0\n",
        "for category, amounts in expenses.items():\n",
        "    category_total = sum(amounts)\n",
        "    total_spent += category_total\n",
        "    print(f\"{category}: ${category_total:.2f}\")\n",
        "# ---------NEW CONCEPT---------------\n",
        "# Step 4: Identify the category with the highest spending\n",
        "highest_category = max(expenses, key=lambda x: sum(expenses[x]))\n",
        "highest_spending = sum(expenses[highest_category])\n",
        "print(f\"\\nCategory with highest spending: {highest_category} (${highest_spending:.2f})\")\n",
        "\n",
        "# Step 5: Compare total spending against budget\n",
        "print(f\"\\nTotal spending: ${total_spent:.2f}\")\n",
        "if total_spent > budget:\n",
        "    print(f\"Warning: You have exceeded your budget by ${total_spent - budget:.2f}.\")\n",
        "else:\n",
        "    print(f\"You are within budget. You have ${budget - total_spent:.2f} remaining.\")\n"
      ],
      "metadata": {
        "id": "BWoeXrxgpoio"
      },
      "execution_count": null,
      "outputs": []
    },
    {
      "cell_type": "markdown",
      "source": [
        "Q29 **Student Grades and Ranking System**\n",
        "\n",
        "Write a program that:\n",
        "\n",
        "* Accepts the grades of students in a class.\n",
        "* Computes the average, highest, and lowest grade for the class.\n",
        "* Ranks students based on their grades in descending order.\n",
        "* Displays the rank of each student along with their grade.\n",
        "* Allows the user to update a student's grade and recalculate the rankings."
      ],
      "metadata": {
        "id": "RBZQaoltqR-j"
      }
    },
    {
      "cell_type": "code",
      "source": [
        "# Step 1: Input grades of students\n",
        "students = {}\n",
        "while True:\n",
        "    name = input(\"Enter student name (or type 'done' to STOP): \").strip()\n",
        "    if name.lower() == \"done\":\n",
        "        break\n",
        "    grade = float(input(f\"Enter grade for {name}: \"))\n",
        "    students[name] = grade\n",
        "\n",
        "# Step 2: Compute average, highest, and lowest grade\n",
        "grades = list(students.values())\n",
        "average_grade = sum(grades) / len(grades)\n",
        "highest_grade = max(grades)\n",
        "lowest_grade = min(grades)\n",
        "\n",
        "# Display statistics\n",
        "print(f\"\\nClass Statistics:\")\n",
        "print(f\"Average grade: {average_grade:.2f}\")\n",
        "print(f\"Highest grade: {highest_grade:.2f}\")\n",
        "print(f\"Lowest grade: {lowest_grade:.2f}\")\n",
        "\n",
        "# Step 3: Rank students by grades\n",
        "sorted_students = sorted(students.items(), key=lambda x: x[1], reverse=True)\n",
        "\n",
        "# Display rankings\n",
        "print(\"\\nStudent Rankings:\")\n",
        "for rank, (name, grade) in enumerate(sorted_students, start=1):\n",
        "    print(f\"{rank}. {name}: {grade:.2f}\")\n",
        "\n",
        "# Step 4: Update a student's grade\n",
        "update_name = input(\"\\nEnter the name of the student whose grade you want to update (or type 'none' to skip): \").strip()\n",
        "if update_name in students:\n",
        "    new_grade = float(input(f\"Enter the new grade for {update_name}: \"))\n",
        "    students[update_name] = new_grade\n",
        "\n",
        "    # Recalculate rankings\n",
        "    sorted_students = sorted(students.items(), key=lambda x: x[1], reverse=True)\n",
        "\n",
        "    # Display updated rankings\n",
        "    print(\"\\nUpdated Rankings:\")\n",
        "    for rank, (name, grade) in enumerate(sorted_students, start=1):\n",
        "        print(f\"{rank}. {name}: {grade:.2f}\")\n",
        "else:\n",
        "    if update_name.lower() != \"none\":\n",
        "        print(f\"Student {update_name} not found.\")\n"
      ],
      "metadata": {
        "id": "S8ILbWyuqsO3"
      },
      "execution_count": null,
      "outputs": []
    },
    {
      "cell_type": "markdown",
      "source": [
        "Q30 **Event Scheduler**\n",
        "\n",
        "Design an event scheduler program that:\n",
        "\n",
        "* Stores events in a dictionary, where each event has a date (as the key) and a list of events scheduled for that date (as the value).\n",
        "* Allows the user to add new events to specific dates.\n",
        "* Allows the user to remove events from a date.\n",
        "* Displays all events scheduled for a given day.\n",
        "* Displays the total number of events scheduled for the entire month."
      ],
      "metadata": {
        "id": "DU5lvYlnrg81"
      }
    },
    {
      "cell_type": "code",
      "source": [
        "# Initialize an empty dictionary to store events\n",
        "events = {}\n",
        "\n",
        "while True:\n",
        "    # Display menu\n",
        "    print(\"\\nEvent Scheduler Menu:\")\n",
        "    print(\"1. Add an event\")\n",
        "    print(\"2. Remove an event\")\n",
        "    print(\"3. View events for a specific date\")\n",
        "    print(\"4. View total number of events\")\n",
        "    print(\"5. Exit\")\n",
        "\n",
        "    choice = input(\"Enter your choice (1-5): \").strip()\n",
        "\n",
        "    if choice == \"1\":\n",
        "        # Add an event\n",
        "        date = input(\"Enter the date (YYYY-MM-DD): \").strip()\n",
        "        event = input(\"Enter the event: \").strip()\n",
        "\n",
        "        if date in events:\n",
        "            events[date].append(event)\n",
        "        else:\n",
        "            events[date] = [event]\n",
        "\n",
        "        print(f\"Event added to {date}.\")\n",
        "\n",
        "    elif choice == \"2\":\n",
        "        # Remove an event\n",
        "        date = input(\"Enter the date (YYYY-MM-DD): \").strip()\n",
        "        if date in events:\n",
        "            print(f\"Events for {date}:\")\n",
        "            for i, event in enumerate(events[date], start=1):\n",
        "                print(f\"{i}. {event}\")\n",
        "\n",
        "            event_num = int(input(\"Enter the number of the event to remove: \").strip())\n",
        "            if 1 <= event_num <= len(events[date]):\n",
        "                removed_event = events[date].pop(event_num - 1)\n",
        "                print(f\"Removed event: {removed_event}\")\n",
        "                if not events[date]:\n",
        "                    del events[date]  # Remove date key if no events remain\n",
        "            else:\n",
        "                print(\"Invalid event number.\")\n",
        "        else:\n",
        "            print(\"No events found for that date.\")\n",
        "\n",
        "    elif choice == \"3\":\n",
        "        # View events for a specific date\n",
        "        date = input(\"Enter the date (YYYY-MM-DD): \").strip()\n",
        "        if date in events:\n",
        "            print(f\"Events for {date}:\")\n",
        "            for event in events[date]:\n",
        "                print(f\"- {event}\")\n",
        "        else:\n",
        "            print(\"No events found for that date.\")\n",
        "\n",
        "    elif choice == \"4\":\n",
        "        # View total number of events\n",
        "        total_events = sum(len(event_list) for event_list in events.values())\n",
        "        print(f\"Total number of events scheduled: {total_events}\")\n",
        "\n",
        "    elif choice == \"5\":\n",
        "        # Exit the program\n",
        "        print(\"Exiting Event Scheduler. Goodbye!\")\n",
        "        break\n",
        "\n",
        "    else:\n",
        "        print(\"Invalid choice. Please try again.\")\n"
      ],
      "metadata": {
        "id": "b_mU0JIRshUZ"
      },
      "execution_count": null,
      "outputs": []
    },
    {
      "cell_type": "markdown",
      "source": [
        " Q31 **Book Inventory System**\n",
        "Create a program that:\n",
        "\n",
        "* Manages a book inventory system using a dictionary, where each book has a title (key) and a stock count (value).\n",
        "* Allows the user to:\n",
        "* Add new books to the inventory.\n",
        "* Update the stock count when a book is sold or restocked.\n",
        "* View the list of available books and their stock count.\n",
        "* Delete a book if it's no longer available.\n",
        "* Alerts the user if a book's stock reaches zero."
      ],
      "metadata": {
        "id": "1EImBqn5sw0f"
      }
    },
    {
      "cell_type": "code",
      "source": [
        "# Initialize an empty dictionary for the book inventory\n",
        "book_inventory = {}\n",
        "\n",
        "while True:\n",
        "    # Display menu options\n",
        "    print(\"\\nBook Inventory System:\")\n",
        "    print(\"1. Add a new book\")\n",
        "    print(\"2. Update book stock\")\n",
        "    print(\"3. View all books\")\n",
        "    print(\"4. Delete a book\")\n",
        "    print(\"5. Exit\")\n",
        "\n",
        "    # Get the user's choice\n",
        "    choice = input(\"Enter your choice (1-5): \").strip()\n",
        "\n",
        "    if choice == \"1\":\n",
        "        # Add a new book\n",
        "        title = input(\"Enter the book title: \").strip()\n",
        "        stock = int(input(f\"Enter the stock count for '{title}': \"))\n",
        "        if title in book_inventory:\n",
        "            print(f\"'{title}' is already in the inventory.\")\n",
        "        else:\n",
        "            book_inventory[title] = stock\n",
        "            print(f\"Added '{title}' with stock count {stock}.\")\n",
        "\n",
        "    elif choice == \"2\":\n",
        "        # Update book stock\n",
        "        title = input(\"Enter the book title: \").strip()\n",
        "        if title in book_inventory:\n",
        "            update_choice = input(\"Do you want to (1) sell or (2) restock the book? Enter 1 or 2: \").strip()\n",
        "            if update_choice == \"1\":\n",
        "                # Selling a book\n",
        "                quantity = int(input(\"Enter the quantity sold: \"))\n",
        "                if quantity <= book_inventory[title]:\n",
        "                    book_inventory[title] -= quantity\n",
        "                    print(f\"Sold {quantity} copies of '{title}'. Remaining stock: {book_inventory[title]}.\")\n",
        "                    if book_inventory[title] == 0:\n",
        "                        print(f\"Alert: '{title}' is now out of stock!\")\n",
        "                else:\n",
        "                    print(\"Not enough stock available.\")\n",
        "            elif update_choice == \"2\":\n",
        "                # Restocking a book\n",
        "                quantity = int(input(\"Enter the quantity to restock: \"))\n",
        "                book_inventory[title] += quantity\n",
        "                print(f\"Restocked {quantity} copies of '{title}'. Total stock: {book_inventory[title]}.\")\n",
        "            else:\n",
        "                print(\"Invalid choice. Please try again.\")\n",
        "        else:\n",
        "            print(f\"'{title}' is not in the inventory.\")\n",
        "\n",
        "    elif choice == \"3\":\n",
        "        # View all books\n",
        "        if book_inventory:\n",
        "            print(\"\\nAvailable books and their stock:\")\n",
        "            for title, stock in book_inventory.items():\n",
        "                print(f\"- {title}: {stock} copies\")\n",
        "        else:\n",
        "            print(\"The inventory is empty.\")\n",
        "\n",
        "    elif choice == \"4\":\n",
        "        # Delete a book\n",
        "        title = input(\"Enter the book title to delete: \").strip()\n",
        "        if title in book_inventory:\n",
        "            del book_inventory[title]\n",
        "            print(f\"Deleted '{title}' from the inventory.\")\n",
        "        else:\n",
        "            print(f\"'{title}' is not in the inventory.\")\n",
        "\n",
        "    elif choice == \"5\":\n",
        "        # Exit the program\n",
        "        print(\"Exiting Book Inventory System. Goodbye!\")\n",
        "        break\n",
        "\n",
        "    else:\n",
        "        print(\"Invalid choice. Please try again.\")\n"
      ],
      "metadata": {
        "id": "usOjURzgtu7z"
      },
      "execution_count": null,
      "outputs": []
    },
    {
      "cell_type": "markdown",
      "source": [
        "Q32 **Task Priority Scheduler**\n",
        "\n",
        "Write a program to manage tasks with priorities:\n",
        "\n",
        "* Accepts a list of tasks, where each task has a description and a priority level (e.g., \"high\", \"medium\", \"low\").\n",
        "* Stores the tasks in a list of dictionaries, where each dictionary represents a task and contains the task description and priority.\n",
        "* Sorts and displays the tasks based on their priority (highest to lowest).\n",
        "* Allows the user to mark a task as completed and removes it from the list.\n",
        "* Displays the remaining tasks after some are marked as completed."
      ],
      "metadata": {
        "id": "4ACGnnGCuJV5"
      }
    },
    {
      "cell_type": "code",
      "source": [
        "# Initialize an empty list to store tasks\n",
        "tasks = []\n",
        "\n",
        "# Priority levels with ranking for sorting\n",
        "priority_rank = {\"high\": 3, \"medium\": 2, \"low\": 1}\n",
        "\n",
        "# Step 1: Add tasks\n",
        "while True:\n",
        "    description = input(\"Enter task description (or 'done' to finish): \").strip()\n",
        "    if description.lower() == \"done\":\n",
        "        break\n",
        "    priority = input(\"Enter priority (high, medium, low): \").strip().lower()\n",
        "    if priority in priority_rank:\n",
        "        tasks.append({\"description\": description, \"priority\": priority})\n",
        "    else:\n",
        "        print(\"Invalid priority! Please enter 'high', 'medium', or 'low'.\")\n",
        "\n",
        "# Step 2: Sort tasks by priority\n",
        "tasks.sort(key=lambda task: priority_rank[task[\"priority\"]], reverse=True)\n",
        "\n",
        "# Step 3: Display all tasks\n",
        "print(\"\\nTasks sorted by priority:\")\n",
        "for idx, task in enumerate(tasks, start=1):\n",
        "    print(f\"{idx}. {task['description']} (Priority: {task['priority']})\")\n",
        "\n",
        "# Step 4: Mark tasks as completed\n",
        "while True:\n",
        "    choice = input(\"\\nEnter the task number to mark as completed (or 'done' to finish): \").strip()\n",
        "    if choice.lower() == \"done\":\n",
        "        break\n",
        "    if choice.isdigit():\n",
        "        task_number = int(choice)\n",
        "        if 1 <= task_number <= len(tasks):\n",
        "            completed_task = tasks.pop(task_number - 1)\n",
        "            print(f\"Task '{completed_task['description']}' marked as completed.\")\n",
        "        else:\n",
        "            print(\"Invalid task number!\")\n",
        "    else:\n",
        "        print(\"Please enter a valid number.\")\n",
        "\n",
        "# Step 5: Display remaining tasks\n",
        "if tasks:\n",
        "    print(\"\\nRemaining tasks:\")\n",
        "    for idx, task in enumerate(tasks, start=1):\n",
        "        print(f\"{idx}. {task['description']} (Priority: {task['priority']})\")\n",
        "else:\n",
        "    print(\"\\nNo remaining tasks. All tasks are completed!\")\n"
      ],
      "metadata": {
        "id": "fCWd-iC7vJ1x"
      },
      "execution_count": null,
      "outputs": []
    },
    {
      "cell_type": "markdown",
      "source": [
        "Q33:\n",
        "## Challenge 1: Budget Tracker\n",
        "  ### Problem Statement\n",
        "  You need to create a simple budget tracker. The program should:\n",
        "\n",
        "- Allow the user to input their monthly income.\n",
        "- Let the user input expenses one by one\n",
        "- Stop accepting expenses when the user types 'done'.\n",
        "- Calculate and display the remaining balance.\n",
        "- If expenses exceed the income, display a warning message.\n",
        "### Sample Input\n",
        "        \"Monthly income: 5000\"\n",
        "        \"Enter expense: 200\"\n",
        "        \"Enter expense: 800\"\n",
        "        \"Enter expense: 1500\"\n",
        "        \"Enter expense: done\"\n",
        "### Expected Output        \n",
        "        Total expenses: 2500\n",
        "        Remaining balance: 2500"
      ],
      "metadata": {
        "id": "uujvRAQEv37F"
      }
    },
    {
      "cell_type": "code",
      "source": [
        "# step 1\n",
        "monthly_income = int(input(\"Enter your monthly income: \"))\n",
        "expenses = []\n",
        "# step 2\n",
        "while True:\n",
        "    expense = input(\"Enter Your Expenses here OR (Done to Stop ): \")\n",
        "    if expense == \"done\":\n",
        "        break\n",
        "    else:\n",
        "        # expenses.append(int(expense)) it throw error for invlid litral for append to object\n",
        "        expense = int(expense)\n",
        "        expenses.append(expense)\n",
        "        # step 3\n",
        "        total_expenses = sum(expenses)\n",
        "        # print(\"Your Total Expenses are : \" , total_expenses)\n",
        "        # step 4\n",
        "        if total_expenses > monthly_income:\n",
        "          print(\"Warning: Expenses exceed income!\")\n",
        "          break\n",
        "# step 5\n",
        "print(\"Total expenses : \" ,  total_expenses)\n",
        "if total_expenses <= monthly_income:\n",
        "  reamianing_balance = monthly_income - total_expenses\n",
        "  print(\"Your Remaining Balance is : \" , reamianing_balance)\n"
      ],
      "metadata": {
        "id": "BrBTn22wwJ6d"
      },
      "execution_count": null,
      "outputs": []
    },
    {
      "cell_type": "markdown",
      "source": [
        "## Challenge 2: Student Grades\n",
        "### Problem Statement,\n",
        "Write a Python program to calculate the average grade of a class and determine the highest and lowest grades. The program should:\n",
        "1. Prompt the user to input the number of students.\n",
        "2. Accept grades for each student.\n",
        "3. Calculate and display the average, highest, and lowest grades.\n",
        "### Sample Input\n",
        "        Enter number of students: 5\n",
        "        Enter grade for student 1: 78\n",
        "        Enter grade for student 2: 85\n",
        "        Enter grade for student 3: 92\n",
        "        Enter grade for student 4: 88\n",
        "        Enter grade for student 5: 76\n",
        "### Expected Output\n",
        "        Average grade: 83.8\n",
        "        Highest grade: 92\n",
        "        Lowest grade: 76\n",
        "        "
      ],
      "metadata": {
        "id": "VQSYaG8mDSgq"
      }
    },
    {
      "cell_type": "code",
      "source": [
        "# step 1\n",
        "total_number_of_students = int(input(\"Enter Number of Students : \"))\n",
        "grades = []\n",
        "# step 2\n",
        "for i in range(1,total_number_of_students + 1):\n",
        "    grade = int(input(f\"Enter Grade for Student  : { i }    =  \"))\n",
        "    grades.append(grade)\n",
        "\n",
        "# step 3\n",
        "average_grade = sum(grades) / len(grades)\n",
        "print(\"Average Grade : \" , average_grade)\n",
        "print(\"Highest Grade : \" , max(grades))\n",
        "print(\"Lowest Grade : \" , min(grades))\n"
      ],
      "metadata": {
        "id": "niomNjGnDa92"
      },
      "execution_count": null,
      "outputs": []
    },
    {
      "cell_type": "markdown",
      "source": [
        "## Challenge 3: To-Do List Manager\n",
        "### Problem Statement\n",
        "Develop a Python program to manage a to-do list. The program should:\n",
        "1. Allow the user to add tasks.\n",
        "2. Display all tasks when requested.\n",
        "3. Mark tasks as completed.\n",
        "4. Remove completed tasks from the list.\n",
        "      \n",
        "### Sample Input\n",
        "        Enter a task: Buy groceries\n",
        "        Enter a task: Complete Python project\n",
        "        Do you want to view tasks? (yes/no): yes\n",
        "        1. Buy groceries\n",
        "        2. Complete Python project\n",
        "        Mark task number as complete: 1\n",
        "        Do you want to remove completed tasks? (yes/no): yes\n",
        "### Expected Output\n",
        "        Remaining tasks:\n",
        "        1. Complete Python project\n",
        "    "
      ],
      "metadata": {
        "id": "Z6XVHXxSDkaU"
      }
    },
    {
      "cell_type": "code",
      "source": [
        "# Step 1:\n",
        "tasks = []\n",
        "\n",
        "# Step 2: Add tasks\n",
        "while True:\n",
        "    task = input(\"Enter a task (or type 'done' to finish): \")\n",
        "    if task.lower() == \"done\":\n",
        "        break\n",
        "    tasks.append(task)\n",
        "\n",
        "# Step 3:\n",
        "choice = input(\"Do you want to view tasks? (yes/no): \").lower()\n",
        "if choice == \"yes\":\n",
        "    if tasks:\n",
        "        print(\"\\nTasks:\")\n",
        "        for i, task in enumerate(tasks, start=1):\n",
        "            print(f\"{i}. {task}\")\n",
        "    else:\n",
        "        print(\"No tasks available.\")\n",
        "\n",
        "# Step 4\n",
        "if tasks:\n",
        "    try:\n",
        "        task_number = int(input(\"\\nMark task number as complete: \"))\n",
        "        if 1 <= task_number <= len(tasks):\n",
        "            completed_task = tasks.pop(task_number - 1)\n",
        "            print(f\"Task '{completed_task}' marked as complete.\")\n",
        "        else:\n",
        "            print(\"Invalid task number.\")\n",
        "    except ValueError:\n",
        "        print(\"Invalid input. Please enter a valid task number.\")\n",
        "\n",
        "\n",
        "# Step 4\n",
        "choice = input(\"\\nDo you want to view remaining tasks? (yes/no): \").lower()\n",
        "if choice == \"yes\":\n",
        "    if tasks:\n",
        "        print(\"\\nRemaining Tasks:\")\n",
        "        for i, task in enumerate(tasks, start=1):\n",
        "            print(f\"{i}. {task}\")\n",
        "    else:\n",
        "        print(\"No remaining tasks.\")\n"
      ],
      "metadata": {
        "id": "6Itt0rwbDoNs"
      },
      "execution_count": null,
      "outputs": []
    },
    {
      "cell_type": "markdown",
      "source": [
        "## Challenge 4: Password Strength Checker\n",
        "### Problem Statement\n",
        "Create a Python program to check the strength of a password. The program should:\n",
        "1. Accept a password from the user.\n",
        "2. Check if the password meets the following criteria:\n",
        "- At least 8 characters long\n",
        "- Contains both uppercase and lowercase letters\n",
        "- Includes at least one number\n",
        "- Contains at least one special character (!, @, #, etc.)\n",
        "3. Display whether the password is strong or weak based on the criteria.\n",
        "        \n",
        "### Sample Input\n",
        "\n",
        "       Enter your password: P@ssw0rd\n",
        "        \n",
        "### Expected Output\n",
        "\n",
        "        Password strength: Strong"
      ],
      "metadata": {
        "id": "1QSSjCAlDvZF"
      }
    },
    {
      "cell_type": "code",
      "source": [
        "# first method which is not good approach\n",
        "\n",
        "# # Step 1:\n",
        "# password = input(\"Enter your password: \")\n",
        "# # step 2:\n",
        "# if len(password) >= 8:\n",
        "#     # Step 3:\n",
        "#     if any(char.isupper() for char in password) and any(char.islower() for char in password):\n",
        "#         # Step 4:\n",
        "#         if any(char.isdigit() for char in password):\n",
        "#             # Step 5:\n",
        "#             if any(char in '!@#$%^&*()_+-=[]{}|;:,.<>?/~' for char in password):\n",
        "#                 # Step 6:\n",
        "#                 print(\"Password strength: Strong\")\n",
        "#             else:\n",
        "#                 print(\"Password strength: Weak - Must contain at least one special character.\")\n",
        "#         else:\n",
        "#             print(\"Password strength: Weak - Must contain at least one number.\")\n",
        "#     else:\n",
        "#         print(\"Password strength: Weak - Must contain both uppercase and lowercase letters.\")\n",
        "# else:\n",
        "#     print(\"Password strength: Weak - Must be at least 8 characters long.\")\n",
        "\n",
        "# ========================================================================================================================\n",
        "\n",
        "# second method good approach\n",
        "password = input(\"Enter your password: \")\n",
        "# checks\n",
        "has_uppercase = False\n",
        "has_lowercase = False\n",
        "has_number = False\n",
        "has_special_char = False\n",
        "\n",
        "# Step 1:\n",
        "if len(password) >= 8:\n",
        "# Step 2:\n",
        "    for char in password:      #har char check kray gi loop passowrd main\n",
        "        if char.isupper():\n",
        "            has_uppercase = True\n",
        "        elif char.islower():\n",
        "            has_lowercase = True\n",
        "        elif char.isdigit():\n",
        "            has_number = True\n",
        "        elif char in \"!@#$%^&*()_-+=<>?\":\n",
        "            has_special_char = True\n",
        "\n",
        "# Step 3:\n",
        "    if has_uppercase and has_lowercase and has_number and has_special_char:\n",
        "        print(\"Password strength: Strong\")\n",
        "    else:\n",
        "        print(\"Password strength: Weak\")\n",
        "else:\n",
        "    print(\"Password strength: Weak\")\n"
      ],
      "metadata": {
        "id": "CrRorP0BD2I0"
      },
      "execution_count": null,
      "outputs": []
    },
    {
      "cell_type": "markdown",
      "source": [
        "\n",
        "\n",
        "```\n",
        "©COPY All rights reserved by M.Imtiaz-Malik 2024\n",
        "```\n",
        "\n"
      ],
      "metadata": {
        "id": "ZBOJz-d2vWWQ"
      }
    }
  ]
}